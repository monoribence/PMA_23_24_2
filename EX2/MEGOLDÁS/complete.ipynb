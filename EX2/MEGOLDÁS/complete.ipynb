{
 "cells": [
  {
   "cell_type": "markdown",
   "metadata": {},
   "source": [
    "# Kettősinga modellezése Sympy segítségével"
   ]
  },
  {
   "cell_type": "markdown",
   "metadata": {},
   "source": [
    "## Feladatkitűzés\n",
    "Modellezzünk egy kettősingát adott (ismert) $l_1$ és $l_2$ hosszú rudakkal és végpontjaikra helyezett $m_1$ és $m_2$ nagyságú tömegekkel az alábbi ábárán látható módón: \n",
    "\n",
    "<p align=\"center\">\n",
    "  <img src=\"fig.png?1\" width=\"400\" />\n",
    "</p>\n",
    "\n",
    "Könnyen látható, hogy a kettősinga $2$ DoF (szabadsági fokú) rendszert alkot. A mozgást leíró időfüggő koordináták legyenek a $\\theta_1(t)$ és $\\theta_2(t)$ szögek, szintén az ábra szerinti értelemben. A rendszer kezdeti állapota $\\theta_1(0)$, $\\theta_2(0)$, $\\dot\\theta_1(0)$ és $\\dot\\theta_2(0)$ adott, a kettősingára mozgása során csak a gravitációs erő hat - azaz a rendszert kívülről gerjesztő hatások nem érik, és a súrlódástól is eltekintünk. \n",
    "\n",
    "### Levezetés\n",
    "Az $m_1$ és $m_2$ tömegpontok helyét az x-y koordinátarendszerben, geometriai úton könnyen megkaphatjuk:\n",
    "$\\begin{equation}\\begin{bmatrix} x_1 \\\\ y_1 \\end{bmatrix} = \\begin{bmatrix} l_1\\sin(\\theta_1) \\\\ -l_1\\cos(\\theta_1) \\end{bmatrix}\\tag{1.1}\\end{equation}$\n",
    "$\\begin{equation}\\begin{bmatrix} x_2 \\\\ y_2 \\end{bmatrix} = \\begin{bmatrix} l_1\\sin(\\theta_1)+l_2\\sin(\\theta_2) \\\\ -l_1\\cos(\\theta_1)-l_2\\cos(\\theta_2) \\end{bmatrix}\\tag{1.2}\\end{equation}$\n",
    "Ismeretes, hogy a mozgásegyenlet származtatható a *másodfajú Lagrange-egyenlet* alapján, az alábbi módon:\n",
    "$\\begin{equation} \\frac{\\text{d}}{\\text{d}t}\\frac{\\partial T}{\\partial\\dot\\theta_1}-\\frac{\\partial T}{\\partial\\theta_1}+\\frac{\\partial U}{\\partial\\theta_1}=0\\tag{1.3}\\end{equation}$\n",
    "$\\begin{equation} \\frac{\\text{d}}{\\text{d}t}\\frac{\\partial T}{\\partial\\dot\\theta_2}-\\frac{\\partial T}{\\partial\\theta_2}+\\frac{\\partial U}{\\partial\\theta_2}=0 \\tag{1.4}\\end{equation}$\n",
    "Ahol a rendszer $T$ *kinetikus energiája* és $U$ *potenciális energiája* felírható, mint:\n",
    "$\\begin{equation} T = \\frac{1}{2}m_1(\\dot x_1^2+\\dot y_1^2)+\\frac{1}{2}m_2(\\dot x_2^2+\\dot y_2^2) \\tag{1.5}\\end{equation}$\n",
    "$\\begin{equation} U = m_1gy_1+m_2gy_2 \\tag{1.6}\\end{equation}$"
   ]
  },
  {
   "cell_type": "markdown",
   "metadata": {},
   "source": [
    "## Megoldás"
   ]
  },
  {
   "cell_type": "markdown",
   "metadata": {},
   "source": [
    "### Szükséges importok a feladatmegoldáshoz"
   ]
  },
  {
   "cell_type": "code",
   "execution_count": 1,
   "metadata": {},
   "outputs": [],
   "source": [
    "# Feladatmegoldás\n",
    "import numpy as np                              # Alap matematikai eszköztár\n",
    "import sympy as sp                              # Szimbolikus levezetés\n",
    "from scipy.integrate import odeint              # A mozgásegyenletek numerikus megoldása\n",
    "\n",
    "# Animáció\n",
    "import matplotlib.pyplot as plt                 # Plotolás        \n",
    "from matplotlib import animation                # Animálás\n",
    "from matplotlib.animation import PillowWriter   # .gif formátumba exportálás"
   ]
  },
  {
   "cell_type": "markdown",
   "metadata": {},
   "source": [
    "### Fizikai mennyiségek definiálása"
   ]
  },
  {
   "cell_type": "code",
   "execution_count": 2,
   "metadata": {},
   "outputs": [],
   "source": [
    "# Az adatok definiálása\n",
    "t, g, l_1, l_2, m_1, m_2 = sp.symbols(\"t g l_1 l_2 m_1 m_2\")\n",
    "\n",
    "# A (keresett) függvények definiálása\n",
    "θ_1, θ_2 = sp.symbols(r\"\\theta_1, \\theta_2\", cls=sp.Function)\n",
    "\n",
    "# Az időfüggés explicit megadása\n",
    "θ_1, θ_2 = θ_1(t), θ_2(t)"
   ]
  },
  {
   "cell_type": "markdown",
   "metadata": {},
   "source": [
    "A levezetéshez szükségünk van az első és második deriváltakra is. A `sp.diff()` függvény segítségével származtathatjuk a deriváltakat az alábbi módon:"
   ]
  },
  {
   "cell_type": "code",
   "execution_count": 3,
   "metadata": {},
   "outputs": [],
   "source": [
    "θ_1d = sp.diff(θ_1, t)\n",
    "θ_2d = sp.diff(θ_2, t)\n",
    "θ_1dd = sp.diff(θ_1d, t)\n",
    "θ_2dd = sp.diff(θ_2d, t)"
   ]
  },
  {
   "cell_type": "markdown",
   "metadata": {},
   "source": [
    "### A mozgásegyenlet felírása Sympy segítségével (levezetés)"
   ]
  },
  {
   "cell_type": "markdown",
   "metadata": {},
   "source": [
    "Az (1.1) és (1.2) egyenletek alapján fel tudjuk írni az (abszolút) x-y koordinátarendszerben a tömegpontok ($m_1$, $m_2$) helyét:\n",
    "$\\begin{equation}\\begin{bmatrix} x_1 \\\\ y_1 \\end{bmatrix} = \\begin{bmatrix} l_1\\sin(\\theta_1) \\\\ -l_1\\cos(\\theta_1) \\end{bmatrix}\\tag{1.1}\\end{equation}$\n",
    "$\\begin{equation}\\begin{bmatrix} x_2 \\\\ y_2 \\end{bmatrix} = \\begin{bmatrix} l_1\\sin(\\theta_1)+l_2\\sin(\\theta_2) \\\\ -l_1\\cos(\\theta_1)-l_2\\cos(\\theta_2) \\end{bmatrix}\\tag{1.2}\\end{equation}$"
   ]
  },
  {
   "cell_type": "code",
   "execution_count": 4,
   "metadata": {},
   "outputs": [],
   "source": [
    "# Az m_1 helye az abszolút koordinátarendszerben\n",
    "x_1 = l_1*sp.sin(θ_1)\n",
    "y_1 = -l_1*sp.cos(θ_1)\n",
    "\n",
    "# Az m_2 helye az abszolút koordinátarendszerben\n",
    "x_2 = l_1*sp.sin(θ_1)+l_2*sp.sin(θ_2)\n",
    "y_2 = -l_1*sp.cos(θ_1)-l_2*sp.cos(θ_2)"
   ]
  },
  {
   "cell_type": "markdown",
   "metadata": {},
   "source": [
    "Az (1.5) és (1.6) egyenletek alapján felírhatjuk a $T$ *kinetikus* és $U$ *potenciális energiákat*:\n",
    "$\\begin{equation} T = \\frac{1}{2}m_1(\\dot x_1^2+\\dot y_1^2)+\\frac{1}{2}m_2(\\dot x_2^2+\\dot y_2^2) \\tag{1.5}\\end{equation}$\n",
    "$\\begin{equation} U = m_1gy_1+m_2gy_2 \\tag{1.6}\\end{equation}$"
   ]
  },
  {
   "cell_type": "code",
   "execution_count": 5,
   "metadata": {},
   "outputs": [
    {
     "data": {
      "text/latex": [
       "$\\displaystyle 0.5 m_{1} \\left(l_{1}^{2} \\sin^{2}{\\left(\\theta_{1}{\\left(t \\right)} \\right)} \\left(\\frac{d}{d t} \\theta_{1}{\\left(t \\right)}\\right)^{2} + l_{1}^{2} \\cos^{2}{\\left(\\theta_{1}{\\left(t \\right)} \\right)} \\left(\\frac{d}{d t} \\theta_{1}{\\left(t \\right)}\\right)^{2}\\right) + 0.5 m_{2} \\left(\\left(l_{1} \\sin{\\left(\\theta_{1}{\\left(t \\right)} \\right)} \\frac{d}{d t} \\theta_{1}{\\left(t \\right)} + l_{2} \\sin{\\left(\\theta_{2}{\\left(t \\right)} \\right)} \\frac{d}{d t} \\theta_{2}{\\left(t \\right)}\\right)^{2} + \\left(l_{1} \\cos{\\left(\\theta_{1}{\\left(t \\right)} \\right)} \\frac{d}{d t} \\theta_{1}{\\left(t \\right)} + l_{2} \\cos{\\left(\\theta_{2}{\\left(t \\right)} \\right)} \\frac{d}{d t} \\theta_{2}{\\left(t \\right)}\\right)^{2}\\right)$"
      ],
      "text/plain": [
       "0.5*m_1*(l_1**2*sin(\\theta_1(t))**2*Derivative(\\theta_1(t), t)**2 + l_1**2*cos(\\theta_1(t))**2*Derivative(\\theta_1(t), t)**2) + 0.5*m_2*((l_1*sin(\\theta_1(t))*Derivative(\\theta_1(t), t) + l_2*sin(\\theta_2(t))*Derivative(\\theta_2(t), t))**2 + (l_1*cos(\\theta_1(t))*Derivative(\\theta_1(t), t) + l_2*cos(\\theta_2(t))*Derivative(\\theta_2(t), t))**2)"
      ]
     },
     "metadata": {},
     "output_type": "display_data"
    },
    {
     "data": {
      "text/latex": [
       "$\\displaystyle - g l_{1} m_{1} \\cos{\\left(\\theta_{1}{\\left(t \\right)} \\right)} + g m_{2} \\left(- l_{1} \\cos{\\left(\\theta_{1}{\\left(t \\right)} \\right)} - l_{2} \\cos{\\left(\\theta_{2}{\\left(t \\right)} \\right)}\\right)$"
      ],
      "text/plain": [
       "-g*l_1*m_1*cos(\\theta_1(t)) + g*m_2*(-l_1*cos(\\theta_1(t)) - l_2*cos(\\theta_2(t)))"
      ]
     },
     "metadata": {},
     "output_type": "display_data"
    }
   ],
   "source": [
    "# A kinetikus energia\n",
    "T_1 = 1/2*m_1*(sp.diff(x_1,t)**2+sp.diff(y_1,t)**2)\n",
    "T_2 = 1/2*m_2*(sp.diff(x_2,t)**2+sp.diff(y_2,t)**2)\n",
    "T = T_1+T_2\n",
    "display(T)\n",
    "\n",
    "# A potenciális energia\n",
    "U = m_1*g*y_1+m_2*g*y_2\n",
    "display(U)"
   ]
  },
  {
   "cell_type": "markdown",
   "metadata": {},
   "source": [
    "Ezt követően az (1.3) és (1.4) egyenletekből adódik a mozgásegyenlet:\n",
    "$\\begin{equation} \\frac{\\text{d}}{\\text{d}t}\\frac{\\partial T}{\\partial\\dot\\theta_1}-\\frac{\\partial T}{\\partial\\theta_1}+\\frac{\\partial U}{\\partial\\theta_1}=0\\tag{1.3}\\end{equation}$\n",
    "$\\begin{equation} \\frac{\\text{d}}{\\text{d}t}\\frac{\\partial T}{\\partial\\dot\\theta_2}-\\frac{\\partial T}{\\partial\\theta_2}+\\frac{\\partial U}{\\partial\\theta_2}=0 \\tag{1.4}\\end{equation}$"
   ]
  },
  {
   "cell_type": "code",
   "execution_count": 6,
   "metadata": {},
   "outputs": [],
   "source": [
    "# Másodfajú Lagrange θ_1-re:\n",
    "LagEq1 = sp.diff(sp.diff(T,θ_1d),t).simplify() - sp.diff(T, θ_1) + sp.diff(U, θ_1)\n",
    "\n",
    "# Másodfajú Lagrange θ_2-re:\n",
    "LagEq2 = sp.diff(sp.diff(T,θ_2d),t).simplify() - sp.diff(T, θ_2) + sp.diff(U, θ_2)"
   ]
  },
  {
   "cell_type": "markdown",
   "metadata": {},
   "source": [
    "### A mozgásegyenlet numerikus megoldása\n",
    "Közönséges differenciálegyenletek (ODE) numerikus megoldása során az alábbi eljárást követjük:\n",
    "1. Rendezzük az egyenleteiket a legmagasabb rendű deriváltra! Jelölje a legnagyobb rendű deriváltat $n$. \n",
    "2. Ha $n\\neq 1$, azaz legalább másodrendű a differenciálegyenletünk, akkor alkalmazzuk a **Cauchy-átírást**! Ez mindig megtehető és ennek segítségével egy $n$-edrendű ODE átírható $n$ darab, elsőrendű ODE-re. A módszer lényege, hogy az eredeti függvényünk deriváltjaira *bevezetünk új függvényeket*. \n",
    "3. A Cacuhy-átírás során kapott ODE-rendszert foglaljuk egy $\\vec{S}$ vektorba az egyszerűség kedvéért. (S: system)\n",
    "4. Írjuk fel a rendszer **kezdeti feltételeit** (IVP)!\n",
    "5. Végül **numerikus integrálás** segítségével megkapjuk az eredményt. Ezt már fel tudjuk dolgozni, ábrázolni, esetleg animálni."
   ]
  },
  {
   "cell_type": "markdown",
   "metadata": {},
   "source": [
    "**1. lépés**: Rendezzük a mozgásegyenleteket az `sp.solve()` függvény segítségével `θ_1dd(t)`-re és `θ_2dd(t)`-re (azaz a második deriváltakra)! Erre a numerikus megoldás során lesz szükségünk. Figyelem: az alábbi szintaxisban feltételezzük, hogy az egyenletek már **nullára redukált** állapotban vannak!"
   ]
  },
  {
   "cell_type": "code",
   "execution_count": 7,
   "metadata": {},
   "outputs": [],
   "source": [
    "solution = sp.solve([LagEq1, LagEq2], (θ_1dd, θ_2dd), simplify=False, rational=False)"
   ]
  },
  {
   "cell_type": "markdown",
   "metadata": {},
   "source": [
    "**2. lépés**: Amit most megkaptunk az nem más, mint a második deriváltak:\n",
    "$$\\frac{\\text{d}^2\\theta_1(t)}{\\text{d} t^2} = ... \\qquad\\qquad\\qquad \\frac{\\text{d}^2\\theta_2(t)}{\\text{d} t^2} = ... $$\n",
    "Ami problémát jelent a numerikus eszköztárunkban, hogy a **numerikus integrálást csak elsőrendű differenciálegyenleten lehet elvégezni!** Ami viszont jó hír, hogy a *Cauchy-átírás* segítségével könnyedén előállíthatjuk az elsőrendű egyenleteket. Ehhez vezessünk be új változókat az első deriváltakra:\n",
    "$$ Q_1 := \\frac{\\text{d}\\theta_1}{dt} \\qquad\\qquad\\qquad Q_2 := \\frac{\\text{d}\\theta_2}{dt}$$\n",
    "Ezeket tovább deriválva:\n",
    "$$ \\frac{\\text{d}}{\\text{d}t}Q_1 = \\frac{\\text{d}^2\\theta_1}{\\text{d}t^2} = ... \\qquad\\qquad\\qquad \\frac{\\text{d}}{\\text{d}t}Q_2 = \\frac{\\text{d}^2\\theta_2}{\\text{d}t^2} = ...$$"
   ]
  },
  {
   "cell_type": "markdown",
   "metadata": {},
   "source": [
    "Amire még ezen felül szükségünk van, hogy a **szimbolikus egyenleteket átírjuk numerikus egyenletekké** az `sp.lambdify(<argumentum(ok)>, <függvény>)` függvény segítségével. Az úgynevezett *lambda függvények* pusztán csak egy hatékony és gyors megoldást kínálnak arra, hogy numerikusan kiszámítsunk bonyolult összefüggéseket."
   ]
  },
  {
   "cell_type": "code",
   "execution_count": 8,
   "metadata": {},
   "outputs": [],
   "source": [
    "# Q1 és Q2 deriváltja\n",
    "dQ_1n = sp.lambdify((t,g,l_1, l_2, m_1, m_2, θ_1, θ_2, θ_1d, θ_2d), solution[θ_1dd])\n",
    "dQ_2n = sp.lambdify((t,g,l_1, l_2, m_1, m_2, θ_1, θ_2, θ_1d, θ_2d), solution[θ_2dd])\n",
    "\n",
    "# θ_1 és θ_2 deriváltja\n",
    "dθ_1n = sp.lambdify(θ_1d, θ_1d)\n",
    "dθ_2n = sp.lambdify(θ_2d, θ_2d)"
   ]
  },
  {
   "cell_type": "markdown",
   "metadata": {},
   "source": [
    "**3. lépés**: Foglaljuk össze egy $\\vec{S} = (\\theta_1 ,\\; Q_1 ,\\; \\theta_2 ,\\; Q_2)$ vektorban a rendszer paramétereit! Ekkor ennek időbeli deriváltja az előzőekben definiált lambda függvényekkel:"
   ]
  },
  {
   "cell_type": "code",
   "execution_count": 9,
   "metadata": {},
   "outputs": [],
   "source": [
    "def dSdt(S, t, g, l_1, l_2, m_1, m_2):\n",
    "    θ_1, Q_1, θ_2, Q_2 = S\n",
    "    return [\n",
    "        dθ_1n(Q_1),\n",
    "        dQ_1n(t, g, l_1, l_2, m_1, m_2, θ_1, θ_2, Q_1, Q_2),\n",
    "        dθ_2n(Q_2),\n",
    "        dQ_2n(t, g, l_1, l_2, m_1, m_2, θ_1, θ_2, Q_1, Q_2),\n",
    "    ]"
   ]
  },
  {
   "cell_type": "markdown",
   "metadata": {},
   "source": [
    "**4-5. lépés**: Ebben a formában már meg tudjuk oldani a mozgásegyenleteket az `odeint(<rendszer>, <kezdeti feltételek>, <paraméterek>)` függvény segítségével!"
   ]
  },
  {
   "cell_type": "code",
   "execution_count": 45,
   "metadata": {},
   "outputs": [],
   "source": [
    "# Időtartam felosztása \"kellően kicsiny\" szakaszokra\n",
    "t = np.linspace(0,20,1001)\n",
    "\n",
    "# Paraméterek megadása\n",
    "g = 9.81    # [m/s^2]\n",
    "l_1 = 2     # [m]\n",
    "l_2 = 1     # [m]\n",
    "m_1 = 3     # [kg]\n",
    "m_2 = 4     # [kg]\n",
    "\n",
    "# Mozgásegyenlet megoldása adott kezdeti feltételekre\n",
    "result1 = odeint(dSdt, y0=[1, -3, 1, 4], t=t, args=(g, l_1, l_2, m_1, m_2))\n",
    "result2 = odeint(dSdt, y0=[1.001, -3, 1, 4], t=t, args=(g, l_1, l_2, m_1, m_2))\n",
    "result3 = odeint(dSdt, y0=[1.002, -3, 1, 4], t=t, args=(g, l_1, l_2, m_1, m_2))"
   ]
  },
  {
   "cell_type": "markdown",
   "metadata": {},
   "source": [
    "### Animáció készítése"
   ]
  },
  {
   "cell_type": "code",
   "execution_count": 47,
   "metadata": {},
   "outputs": [],
   "source": [
    "# Konvertáljuk a globális x-y koordinátarendszerbe a pontokat:\n",
    "def theta2xy(t, θ_1, θ_2, l_1, l_2):\n",
    "    return (l_1*np.sin(θ_1), -l_1*np.cos(θ_1),\n",
    "             l_1*np.sin(θ_1)+l_2*np.sin(θ_2), -l_1*np.cos(θ_1)-l_2*np.cos(θ_2)) \n",
    "\n",
    "x_11, y_11, x_21, y_21 = theta2xy(t, result1.T[0], result1.T[2], l_1, l_2)\n",
    "x_12, y_12, x_22, y_22 = theta2xy(t, result2.T[0], result2.T[2], l_1, l_2)\n",
    "x_13, y_13, x_23, y_23 = theta2xy(t, result3.T[0], result3.T[2], l_1, l_2)"
   ]
  },
  {
   "cell_type": "code",
   "execution_count": 48,
   "metadata": {},
   "outputs": [
    {
     "data": {
      "image/png": "[encoded data removed]",
      "text/plain": [
       "<Figure size 800x800 with 1 Axes>"
      ]
     },
     "metadata": {},
     "output_type": "display_data"
    }
   ],
   "source": [
    "# A kettősingát törött vonalakkal jelenlítjük meg\n",
    "def animate(i):\n",
    "    ln1.set_data([0, x_11[i], x_21[i]], [0, y_11[i], y_21[i]])\n",
    "    ln2.set_data([0, x_12[i], x_22[i]], [0, y_12[i], y_22[i]])\n",
    "    ln3.set_data([0, x_13[i], x_23[i]], [0, y_13[i], y_23[i]])\n",
    "    \n",
    "# Elkészítjük a rajzteret\n",
    "fig, ax = plt.subplots(1,1, figsize=(8,8))\n",
    "\n",
    "# Plotolás \n",
    "ax.set_facecolor('k')           # Háttérszín: fekete\n",
    "ax.get_xaxis().set_ticks([])    # x-tengely felirat eltüntetése\n",
    "ax.get_yaxis().set_ticks([])    # y-tengely felirat eltüntetése\n",
    "ln1, = plt.plot([], [], 'o-', color = \"red\", lw=3, markersize=7)            # 1. rendszer\n",
    "ln2, = plt.plot([], [], 'o-', color = '#ff8484',lw=3, markersize=7)         # 2. rendszer\n",
    "ln3, = plt.plot([], [], 'o-', color = '#ffbfbf', lw=3, markersize=7)        # 3. rendszer\n",
    "ax.set_ylim(-4,4)\n",
    "ax.set_xlim(-4,4)\n",
    "\n",
    "# Animáció\n",
    "ani = animation.FuncAnimation(fig, animate, frames=1000, interval=50)\n",
    "ani.save('double_prendulum_chaotic.gif', writer='pillow',fps=50)"
   ]
  },
  {
   "cell_type": "markdown",
   "metadata": {},
   "source": [
    "# Epilógus"
   ]
  },
  {
   "cell_type": "markdown",
   "metadata": {},
   "source": [
    "Kiegészítés az órai anyaghoz:\n",
    "- Python dokumentációja: https://docs.python.org/3/\n",
    "- NumPy dokumentációja: https://numpy.org/doc/1.25/\n",
    "- SymPy dokumentációja: https://docs.sympy.org/latest/index.html\n",
    "- MatPlotLib dokumentációja: https://matplotlib.org/stable/index.html\n",
    "\n",
    "Bármilyen kérdés, kérés vagy probléma esetén keressetek minket az alábbi elérhetőségeken:\n",
    "- Monori Bence - m.bence02@outlook.hu\n",
    "- Wenesz Dominik - weneszdominik@gmail.com\n",
    "\n",
    "Illetve anonim üzenetküldésre is lehetőséget biztosítunk, ezt az alábbi linken tudjátok elérni: https://forms.gle/8LR5QdMf2fCpxtMK7"
   ]
  }
 ],
 "metadata": {
  "kernelspec": {
   "display_name": "base",
   "language": "python",
   "name": "python3"
  },
  "language_info": {
   "codemirror_mode": {
    "name": "ipython",
    "version": 3
   },
   "file_extension": ".py",
   "mimetype": "text/x-python",
   "name": "python",
   "nbconvert_exporter": "python",
   "pygments_lexer": "ipython3",
   "version": "3.10.9"
  },
  "orig_nbformat": 4
 },
 "nbformat": 4,
 "nbformat_minor": 2
}
