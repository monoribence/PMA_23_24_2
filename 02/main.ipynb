{
 "cells": [
  {
   "attachments": {},
   "cell_type": "markdown",
   "metadata": {},
   "source": [
    "# 2. hét / Prológus"
   ]
  },
  {
   "attachments": {},
   "cell_type": "markdown",
   "metadata": {},
   "source": [
    "A mari órán a következőkről lesz szó:\n",
    "- Folytatjuk a Numpy-t: keresés a tömbökben, rendezés, minimum/maximum megtalálása. Tömbök összefűzése. (~ 10 perc)\n",
    "- Grafikonok készítése, egy- és többváltozós függvények ábrázolása. (~ 40 perc)\n",
    "- Függvények bevezetése (~ 20 perc)"
   ]
  },
  {
   "attachments": {},
   "cell_type": "markdown",
   "metadata": {},
   "source": [
    "# 2. hét / I. Numpy - Tömbműveletek"
   ]
  },
  {
   "attachments": {},
   "cell_type": "markdown",
   "metadata": {},
   "source": [
    "## Tömbök összefűzése"
   ]
  },
  {
   "cell_type": "code",
   "execution_count": null,
   "metadata": {},
   "outputs": [],
   "source": [
    "# Importáljuk a numpy libraryt!\n",
    "import numpy as np"
   ]
  },
  {
   "cell_type": "markdown",
   "metadata": {},
   "source": [
    "A programozás során általános feladat, hogy szeretnénk egy tömbbe beszúrni, kivenni, keresni elemeket. Elemeket hozzáadni tömbökhöz a `numpy.append(<tömb>, <elem>)` metódussal lehet, ekkor az újonnan felvett elem mindig a tömb végére kerül!"
   ]
  },
  {
   "cell_type": "code",
   "execution_count": null,
   "metadata": {},
   "outputs": [],
   "source": [
    "# Hozzuk létre a kezdeti tömböt!\n"
   ]
  },
  {
   "attachments": {},
   "cell_type": "markdown",
   "metadata": {},
   "source": [
    "Ha a felhasználó által bekért adattal szeretnénk dolgozni, akkor az `input()` függvényt használjuk! Ez mindig `string`et fog eltárolni, ezért ha szeretnénk például számokkal dolgozni, akkor mindig a megfelelő typusra kell *castolni a bekért adatot*!\n",
    "\n",
    "**Példa**: fűzzünk hozzá egy tömbhöz egy felhasználó által bekért elemet!"
   ]
  },
  {
   "cell_type": "code",
   "execution_count": null,
   "metadata": {},
   "outputs": [],
   "source": [
    "# Hozzuk létre a kezdeti tömböt:\n",
    "A = [2,5,3]\n",
    "\n",
    "# Adjunk hozzá egy felhasználó által bekért elemet!\n"
   ]
  },
  {
   "attachments": {},
   "cell_type": "markdown",
   "metadata": {},
   "source": [
    "Természetesen előfordulhat az is, hogy az elemeket nem sorfolytonosan szeretnénk hozzáfűzni egy tömbhöz, hanem például meglévő vektorokat vertikálisan *mátrixxá* összefűzni, vagy egy már meglévő mátrixot kiegészíteni. Erre a `np.hstack()` és `np.vstack()` (esetleg `np.dstack()`) metódusok állnak rendelkezésre. Ennek megfelelően fűzzük össze az alábbi vektorrendszert egy mátrixxá!  \n",
    "$$\\mathcal{B}=\\left\\{\\mathbf{v}_1=\\begin{bmatrix} 4 \\\\ 2 \\\\ -1 \\end{bmatrix},\\mathbf{v}_2=\\begin{bmatrix} -5 \\\\ 2 \\\\ 9 \\end{bmatrix} ,\\mathbf{v}_3=\\begin{bmatrix}1 \\\\ -7 \\\\ 6 \\end{bmatrix}\\right\\}$$\n",
    "**Példa**: Vizsgáljuk meg, hogy *bázist alkot-e* $\\mathcal{B}$ az $\\mathbb{R}^3$ terén?"
   ]
  },
  {
   "cell_type": "code",
   "execution_count": null,
   "metadata": {},
   "outputs": [],
   "source": [
    "# Létrehozzuk a B halmaz elemeit:\n",
    "v1 = np.array([[4],[2],[-1]])\n",
    "v2 = np.array([[-5],[2],[9]])\n",
    "v3 = np.array([[1],[-7],[6]])\n",
    "\n",
    "# Fűzzük őket össze egy mátrixba!\n",
    "\n",
    "# Állapítsuk meg, hogy mennyi A determinánsa:\n"
   ]
  },
  {
   "attachments": {},
   "cell_type": "markdown",
   "metadata": {},
   "source": [
    "<span style=\"color:teal\"> *Megjegyzés: egy $\\mathcal{B}$ vektorrendszer pontosan akkor alkot bázist egy tetszőleges $\\mathcal{V}$ vektortéren, ha először is $\\mathcal{B}$ elemei lineárisan függetlenek. Ezt tudjuk vizsgálni a determinánssal, ugyanis a $\\det\\mathbf{A}$ pontosan akkor lesz zérus, ha az $\\mathbf{A}$ sorai/oszlopai lineárisan összefüggnek. Mivel a determináns nem zérus, ezért $\\mathbf{v}_1,\\mathbf{v}_2,\\mathbf{v}_3$ lineárisan független kell, hogy legyen. A másik dolog amit garantálni kell, hogy $\\mathcal{B}$ elemei kifeszítik a $\\mathcal{V}$ teret. Mivel az $\\mathbb{R}^n$ teret pontosan $n$ vektornak kell kifeszítenie, ezért ez a feltétel is teljesül; elvégre 3 vektorunk van.*  </span>"
   ]
  },
  {
   "attachments": {},
   "cell_type": "markdown",
   "metadata": {},
   "source": [
    "## Keresés tömbökben, rendezések\n",
    "Ezt követően beszéljünk a tömbben való keresésről, és tömbök rendezéséről. Ha szeretnénk meghatározni egy tömb legkisebb/legnagyobb elemét, akkor a `.min()`, ileltve `.max()` metódusokkal egyszerűen megtehetjük ezt!\n",
    "\n",
    "**Példa**: Rendelkezésre áll egy tetszőleges mérés után egy $a_n$ adatsorunk. Keressük meg és írassuk ki, az adatsor legkisebb és legnagyobb elemét! Ezek alapján számoljuk ki a terjedelmét az adatoknak!\n",
    "$$ \\{a_n\\}=\\{2,83,-45,25,10,9,-57,120\\}$$"
   ]
  },
  {
   "cell_type": "code",
   "execution_count": null,
   "metadata": {},
   "outputs": [],
   "source": [
    "# Definiáljuk a tömböt\n",
    "a_n = np.array([[2,83,-45,25,10,9,-57,120]])\n",
    "\n",
    "# Írjuk ki a minimumot és a maximumot!\n"
   ]
  },
  {
   "attachments": {},
   "cell_type": "markdown",
   "metadata": {},
   "source": [
    "**Feladat**: Írjuk ki az adathalmaz terjedelmét!\n",
    "$$ R = \\max\\{a_n\\}-\\min\\{a_n\\}$$"
   ]
  },
  {
   "cell_type": "code",
   "execution_count": null,
   "metadata": {},
   "outputs": [],
   "source": [
    "# Az adathalmaz terjedelme:\n"
   ]
  },
  {
   "attachments": {},
   "cell_type": "markdown",
   "metadata": {},
   "source": [
    "Persze megkönnyíthetjük a dolgunkat, ha rendezzük az adatsort, így könnyedén leolvashatóvá válik a minimum és a maximum! A programozásban kiemelt szerepet foglalnak el a *rendezési algoritmusok*, amelyek mögött egy bonyolult matematikai rendszer húzódik meg. Szerencsére az `np.sort(<adatsor>)` függvény segítségével könnyedén el tudjuk végeztetni \"a piszkos munkát\" a számítógéppel!"
   ]
  },
  {
   "cell_type": "code",
   "execution_count": null,
   "metadata": {},
   "outputs": [],
   "source": [
    "# Rendezzük és írassuk ki az a_n adatsort!\n"
   ]
  },
  {
   "attachments": {},
   "cell_type": "markdown",
   "metadata": {},
   "source": [
    "<span style=\"color:teal\"> *Megjegyzés: a rendezési algoritmusok során a legnagyobb nehézséget mindig a számítási idő okozza. Az egyik legegyszerűbb eljárás a* **bubble sort**, *más néven a buborékrendezés. Ennek hátránya, hogy az elemek számával négyzetesen nő a futtatási ideje! Álljunk meg és gondoljuk át, hogy egészen pontosan mit is jelent ez! Az adathalmaz mennyisége, ha egy nagyságrendet ugrik, akkor közben a futási idő két nagyságrendet! Például, ha 10 helyett 1000 adatot szeretnék rendezni, akkor már 10000-szeresére nő az algoritmus futási ideje! A valós mérnöki problémák során viszont gyakran a több tíz és százmilliós nagyságrendű adathalmazokat vizsgálunk. Ezért az alapvető programozói gyakorlatban olyan algoritmusok terjedtek el, mint a:* **quicksort**, **merge sort**, **timsort**.</span>"
   ]
  },
  {
   "attachments": {},
   "cell_type": "markdown",
   "metadata": {},
   "source": [
    "# 2. hét / II. Plotolás"
   ]
  },
  {
   "attachments": {},
   "cell_type": "markdown",
   "metadata": {},
   "source": [
    "## Motiváció és alapok\n",
    "A adat- és függvényábrázolás, vagy idegen szóval *plotolás*, egy igen központi feladata a mérnöki életnek (és a mérnöki munkát megelőző házi feladatoknak), nagyon sokszor előfordul, hogy valamilyen mennyiség alakulását például az térben/időben szeretnénk megmutatni, valamilyen függvénykapcsoaltot szeretnénk ábrázolni, vagy csak egyszerűen mérési eredményeket szeretnénk megjeleníteni, hogy ezt követően trendvonalat illeszzünk a pontokra. *(Hozzunk példákat erre!)*\n",
    "Ki tudjuk-e találni, hogy az alábbi függvények milyen alakot vesznek fel?\n",
    "\n",
    "Rezonanciagörbe *(Rezgéstan)*:\n",
    "$$N(\\lambda) = \\dfrac{1}{\\sqrt{(1-\\lambda^2)^2+4\\zeta^2\\lambda^2}}$$\n",
    "\n",
    "Legegyszerűbb (!) kéttárolós lengőrendszer: *(Mechatronika; Rendszer és Irányítástechnika)*\n",
    "$$ y(t)=A_0\\left[1-e^{-\\zeta\\omega_n t}\\left(\\cos(\\omega_d t)+\\dfrac{\\zeta}{\\sqrt{1-\\zeta^2}}\\sin(\\omega_d t)\\right)\\right]$$\n",
    "\n",
    "A hővezetési egyenlet megoldása: *(Hőtan, Termomechanika alapjai)*\n",
    "$$ T(x,t) = \\dfrac{1}{2\\sqrt{\\pi t}}e^{-\\frac{x^2}{4t}}$$\n",
    "\n",
    "<span style=\"color:teal\"> *Megjegyzés: itt nem az az érdekes, hogy tudok olyan függvényeket mondani, amelyeket kapásból/előzetes ismeret nélkül nem tudunk ábrázolni, hanem az, hogy tudok ilyeneket mutatni ÉS ezek a mérnöki gyakorlatban gyakran előjönnek! Itt egy pillanatra álljunk meg és gondoljunk szegény tudósokra, akik még a Python előtt éltek...* </span>"
   ]
  },
  {
   "attachments": {},
   "cell_type": "markdown",
   "metadata": {},
   "source": [
    "Függvényeket tulajdonképpen úgy tudunk ábrázolni, hogy kiválasztunk valamilyen $[a,b]$ intervallumot, ahol szeretnénk megjeleníteni a függvényt. Ezután ezen intervallum belsejében kiválasztunk $n$ darab, *kellően sok* pontot, ahol kiszámítjuk a pontos értékeket. Ezt követően ezt a nagyon sok pontot egyenesekkel összekötjök és megkapjuk a grafikont! Ahhoz, hogy elkészítsük a pontokat a `np.linspace(a,b,n)` függvényt tudjuk használni. Ezt követően az egyes $x$ értékekre kiszámítjuk a függvényértékeket és ezt már a `plt.plot(<x>,<f(x)>)` függvény segítségével tudjuk ábrázolni!\n",
    "\n",
    "**Példa**: Ábrázoljuk az $f(x)=2\\sin(3x+0.5)-4x+2$ függvényt a $[-4,6]\\subset\\mathbb{R}$ intervallumon!"
   ]
  },
  {
   "cell_type": "code",
   "execution_count": null,
   "metadata": {},
   "outputs": [],
   "source": [
    "# Szüksgés importok:\n",
    "import numpy as np\n",
    "import matplotlib.pyplot as plt"
   ]
  },
  {
   "cell_type": "code",
   "execution_count": null,
   "metadata": {},
   "outputs": [],
   "source": [
    "# Létrehozzuk linspace segítségével a pontokat!\n",
    "\n",
    "# Kiszámítjuk a hozzátartozó függvényértékeket!\n",
    "\n",
    "# Ezt követően már tudjuk ábrázolni a függvényünket!\n"
   ]
  },
  {
   "attachments": {},
   "cell_type": "markdown",
   "metadata": {},
   "source": [
    "Ha szeretnénk egy kicsit elegánsabbá tenni a plotot, akkor például tegyünk *tengelyfeliratokat*, adjunk *címet* a grafikonnak, a könnyebb leolvasás érdekében pedig készítsünk egy *grid*et! Ahhoz viszont, hogy ennyire belenyúljunk a plotolásba meg kell hívnunk a `fig, ax = plt.subplots()` függvényt, aholis az `ax` adattag *metódusaiként* érhetjük el ezeket a tulajdonságokat!"
   ]
  },
  {
   "cell_type": "code",
   "execution_count": null,
   "metadata": {},
   "outputs": [],
   "source": [
    "# Létrehozzuk linspace segítségével a pontokat!\n",
    "\n",
    "# Kiszámítjuk a hozzátartozó függvényértékeket!\n",
    "\n",
    "# Hozzuk létre a 'rajzterületet'\n",
    "\n",
    "# Mostmár testreszabhatjuk a plotot!\n"
   ]
  },
  {
   "attachments": {},
   "cell_type": "markdown",
   "metadata": {},
   "source": [
    "## 1. feladat - Rezonanciagörbe\n",
    "Készítsük el a *rezonanciagörbét* $\\zeta = 0.2$ esetén! \n",
    "$\\begin{equation}N:[0,3]\\subset\\mathbb{R}\\to\\mathbb{R}\\qquad\\qquad N(\\lambda) = \\dfrac{1}{\\sqrt{(1-\\lambda^2)^2+4\\zeta^2\\lambda^2}}\\end{equation}$\n",
    "- A plot színe legyen <span style=\"color:chartreuse\"> chartreuse </span>!\n",
    "- A tengelyfeliratok legyenek: *Hangolás λ [-]* és *Nagyítás N [-]*!\n",
    "- A grafikon neve: *Rezonanciagörbe*!\n",
    "- Kapcsoljuk be a *grid*et!\n",
    "- Keressük meg a függvény *maximum*át!\n",
    "\n",
    "*+ Próbáljuk meg kiegészíteni a plotot $\\zeta = \\frac{\\sqrt2}{2}$ és $\\zeta = 1$ értékeivel is!*"
   ]
  },
  {
   "cell_type": "code",
   "execution_count": null,
   "metadata": {},
   "outputs": [],
   "source": [
    "# Létrehozzuk linspace segítségével a pontokat!\n",
    "λ = \n",
    "# Kiszámítjuk a hozzátartozó függvényértékeket!\n",
    "ζ = \n",
    "\n",
    "# Hozzuk létre a 'rajzterületet'!\n",
    "\n",
    "# Plotolás és testreszabás\n"
   ]
  },
  {
   "attachments": {},
   "cell_type": "markdown",
   "metadata": {},
   "source": [
    "## Többváltozós függvények, felületek ábrázolása\n",
    "\n",
    "Az első pont, ahová ki fogjuk terjeszteni a plotolási tudásunkat, az a *kétváltozós függvény*ek és *felület*ek ábrázolása! Alapvetően nem bonyolutabb itt sem a dolgunk, mindösszességében nem csak az *x-tengely* mentén, hanem egy *x-y* területen kell meghatározunk a függvény pontjait. Ehhez az `np.meshgrid(<X>,<Y>)` függvényt fogjuk használni. Ezt követően az `ax.plot_surface(<X>,<Y>,<f(x,y)>)` függvény segítségével elő is áll a felületünk.\n",
    "\n",
    "**Példa**: Nézzünk meg egy példát és ábrázoljuk az alábbi függvényt:\n",
    "$$ f:[-2,5]\\times [-3,4]\\subset\\mathbb{R}^2 \\to \\mathbb{R} \\qquad\\qquad f(x,y) = \\dfrac{1}{2}x^2y-y$$"
   ]
  },
  {
   "cell_type": "code",
   "execution_count": null,
   "metadata": {},
   "outputs": [],
   "source": [
    "# Létrehozzuk az alappontokat:\n",
    "\n",
    "# Ezek segítségével lefedjük a területet:\n",
    "\n",
    "# A grid felett definiáljuk a függvényt:\n",
    "\n",
    "# Ábárzoljuk a függvényt:\n"
   ]
  },
  {
   "attachments": {},
   "cell_type": "markdown",
   "metadata": {},
   "source": [
    "## 2. feladat - A hővezetési egyenlet megoldása\n",
    "Ábrázoljuk a hővezetési egyenlet megoldását!\n",
    "$$ \\begin{equation}T:[-3,3]\\times[0,10]\\subset\\mathbb{R}^2\\to\\mathbb{R}\\qquad\\qquad T(x,t)=\\dfrac{1}{2\\sqrt{\\pi t}}e^{-\\frac{x^2}{4t}} \\tag{2} \\end{equation}$$\n",
    "- (Praktikusan plotolásnál: t,x,T legyen a sorrend)\n",
    "- A tengelyfeliratok legyenek: *idő t[s]* és *pozíció x[m]*\n",
    "- A diagramcím legyen: *A hővezetési egyenlet megoldása*"
   ]
  },
  {
   "cell_type": "code",
   "execution_count": null,
   "metadata": {},
   "outputs": [],
   "source": [
    "# Dekorációs elem\n",
    "from matplotlib import cm\n",
    "plt.style.use('_mpl-gallery')\n",
    "\n",
    "# Létrehozzuk az alappontokat:\n",
    "\n",
    "# Ezek segítségével lefedjük a területet:\n",
    "\n",
    "# A grid felett definiáljuk a függvényt:\n",
    "\n",
    "# Ábárzoljuk a függvényt:\n"
   ]
  },
  {
   "attachments": {},
   "cell_type": "markdown",
   "metadata": {},
   "source": [
    "<span style=\"color:teal\"> *A második pont, ahová majd kiterjesztjük a plotolási tudásunkat majd kiderül a 8-9. heti gyakorlaton...* </span>"
   ]
  },
  {
   "attachments": {},
   "cell_type": "markdown",
   "metadata": {},
   "source": [
    "# 2. hét / III. Függvények"
   ]
  },
  {
   "attachments": {},
   "cell_type": "markdown",
   "metadata": {},
   "source": [
    "## Bevezetés, szintaktika\n",
    "\n",
    "A *függvény*eket célszerű a programozásban is hasonlóan bevezetni, mint azt matematikában tesszük. Analízis ismereteinkből kiindulva valamiféle **hozzárendelés**ként képzeljük most el a függvényeket: például valós számokhoz rendelhetek valós számokat, de akár vektorokat is, illetve vektorokhoz is tudunk rendelni skalár számokat, és természetesen vektorokat is.\n",
    "\n",
    "Programozás során is praktikusan ezt kell elképzelni azzal a különbséggel, hogy amikor azt mondom, hogy *skalárhoz skalárt rendelek*, igazából egy `int` típusú változóhoz rendelek egy másik `int` típusú változót. Természetesen `int`,`float`,`string`,`list`,`bool`... változókkal is működik ugyanez, ha úgy tartja kedvünk. Néhány példa:\n",
    "- Egy valós számhoz (`float`) hozzárendeljük a kétszeresét (`float`)\n",
    "- Egy egész számhoz (`int`) hozzárendeljük az osztóinak listáját (`list`)\n",
    "- Egy tetszőleges szóhoz (`string`) hozzárendeljük a karaktereinek számát (`int`)\n",
    "- Egy cikkhez (`string`) hozzárendeljük a kivonatot (`string`)\n",
    "- De akár egy plothoz (`Figure`) is hozzárendelhetünk egy hivatkozást (`string`)\n",
    "\n",
    "A Pythonban ennek szintaktikája a következő módon néz ki:\n",
    "```\n",
    "def <név>(<paraméterek>):\n",
    "    <hozzárendelési szabályok>\n",
    "    ...\n",
    "    return <visszatérési érték>\n",
    "```\n",
    "Ekkor azt mondhatjuk, hogy a `<név>` függvény a `<paraméterek>`hez rendeli a `<visszatérési érték>`et a `<hozzárendelési szabályok>` alapján. Nézzük meg egy konkrét példán keresztül is ezt! Írjuk meg a `pelda(a)` függvényt, amely bekér egy `a` számot és visszaadja annak háromszorosánál kettővel nagyobb számot!"
   ]
  },
  {
   "cell_type": "code",
   "execution_count": null,
   "metadata": {},
   "outputs": [],
   "source": [
    "# Definiáljunk egy függvényt:\n",
    "\n",
    "# Próbáljuk ki néhány számra"
   ]
  },
  {
   "attachments": {},
   "cell_type": "markdown",
   "metadata": {},
   "source": [
    "**Példa**: Írjuk egy `masodfoku(a,b,c)` függvényt, amely megoldja az:\n",
    "$$ ax^2+bx+c = 0$$\n",
    "alakú, másodfokú egyenletet! A visszatérési érték legyen egy `string`! Mi a megoldása az $x^2+2x=0$ egyenletnek?"
   ]
  },
  {
   "cell_type": "code",
   "execution_count": null,
   "metadata": {},
   "outputs": [],
   "source": [
    "# Definiáljuk a függvényt!\n",
    "\n",
    "\n",
    "# Oldjunk meg vele egyenleteket!\n"
   ]
  },
  {
   "attachments": {},
   "cell_type": "markdown",
   "metadata": {},
   "source": [
    "**Feladat**: Írjunk egy `atlag(a,b)` függvényt, amely visszaadja az `a` és `b` számok számtani átlagát! *(Mik lesznek a paraméterek és mi lesz a visszatérési érték?)*"
   ]
  },
  {
   "cell_type": "code",
   "execution_count": null,
   "metadata": {},
   "outputs": [],
   "source": [
    "# Definiáljuk a függvényt\n"
   ]
  },
  {
   "attachments": {},
   "cell_type": "markdown",
   "metadata": {},
   "source": [
    "**Feladat**: Adott egy fejes csapszeg, amit egy egyenes körhengerrel modellezünk! Készítsünk egy `tomeg(d,h)` függvényt, amely egy felhasználó által bekért `d` átmérő [mm] és egy `h` magasság [mm] függvényében meghatározza a `ρ=7800` [kg/m^3] sűrűségű gyorsacélból készült alkatrész *tömeg*ét! A szükséges egyenletetk *SI*-ben:\n",
    "$$ V = \\dfrac{d^2\\pi}{4}\\cdot h \\qquad\\qquad m = \\rho V$$"
   ]
  },
  {
   "cell_type": "code",
   "execution_count": null,
   "metadata": {},
   "outputs": [],
   "source": [
    "ρ = 7800\n",
    "# Definiáljuk a függvényt\n",
    "\n",
    "\n",
    "# Kérjük be a felhasználótól az adatokat!\n"
   ]
  },
  {
   "cell_type": "markdown",
   "metadata": {},
   "source": [
    "# 2.hét / Epilógus"
   ]
  },
  {
   "cell_type": "markdown",
   "metadata": {},
   "source": [
    "### Hasznos anyagok:"
   ]
  },
  {
   "cell_type": "markdown",
   "metadata": {},
   "source": [
    "- Dokumentációk\n",
    "    - Python hivatalos dokumentációja: https://docs.python.org/3/\n",
    "    - [PEP 8](https://peps.python.org/pep-0008/) Style Guide for Python Code - Melyek a jó és rossz programozási praktikák\n",
    "    - NumPy hivatalos dokumentációja: https://numpy.org/doc/1.25/\n",
    "- Tankönyvek\n",
    "    - [Dive Into Python 3](http://diveintopython3.problemsolving.io/)\n",
    "    - [Dive into Deep Learning](https://d2l.ai/) - Interaktív tankönyv Deep Learninghez\n",
    "    - [Fluent Python: Clear, Concise, and Effective Programming by Luciano Ramalho](https://www.oreilly.com/library/view/fluent-python/9781491946237/) - Haladóbb szemléletű Python programozás\n",
    "- Útmutatók\n",
    "    - [The Official Python Tutorial](https://docs.python.org/3/tutorial/) - Self-explanatory?\n",
    "    - [Foglalt Keyword lista](https://docs.python.org/3.0/reference/lexical_analysis.html#id8) - Ezeket ne használd változónévnek!\n",
    "    - [Codecademy](https://www.codecademy.com/catalog) - Interaktív (fizetős) online tutorial\n",
    "    - [CheckIO](https://py.checkio.org/) - Tanulj Pythont játékfejlesztésen kersztül\n",
    "- Competitive Programming\n",
    "    - [Codewars](https://www.codewars.com/?language=python)\n",
    "    - [CodeForces](https://codeforces.com/)"
   ]
  },
  {
   "cell_type": "markdown",
   "metadata": {},
   "source": [
    "### Elérhetőség"
   ]
  },
  {
   "cell_type": "markdown",
   "metadata": {},
   "source": [
    "Bármilyen kérdés, kérés vagy probléma esetén keressetek minket az alábbi elérhetőségeken:\n",
    "- Monori Bence - m.bence02@outlook.hu\n",
    "- Wenesz Dominik - weneszdominik@gmail.com\n",
    "\n",
    "Illetve anonim üzenetküldésre is lehetőséget biztosítunk, ezt az alábbi linken tudjátok elérni: https://forms.gle/6VtGvhja3gq6CTT66"
   ]
  }
 ],
 "metadata": {
  "kernelspec": {
   "display_name": "Python 3",
   "language": "python",
   "name": "python3"
  },
  "language_info": {
   "codemirror_mode": {
    "name": "ipython",
    "version": 3
   },
   "file_extension": ".py",
   "mimetype": "text/x-python",
   "name": "python",
   "nbconvert_exporter": "python",
   "pygments_lexer": "ipython3",
   "version": "3.10.5"
  },
  "orig_nbformat": 4,
  "vscode": {
   "interpreter": {
    "hash": "a8b8071b7cad73449d769ceeab0d9580a986764c62a9bfc7da9b56ab60bdabbd"
   }
  }
 },
 "nbformat": 4,
 "nbformat_minor": 2
}
