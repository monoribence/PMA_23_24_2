{
 "cells": [
  {
   "cell_type": "markdown",
   "metadata": {},
   "source": [
    "# Kinetikus gázmodell szimulációja"
   ]
  },
  {
   "cell_type": "markdown",
   "metadata": {},
   "source": [
    "## Feladatkitűzés\n",
    "\n",
    "A *kinetikus gázelmélet* egyike a legegyszerűbb modelleknek, melynek segítségével a gázok termo- és hidrodinamikai viselkedése leírható. Segítségével a gázok legfőbb *makroszkópikus jellemzői* megmagyarázhatóak, így például a *nyomás, térfogat, hőmérséklet*, vagy éppenséggel a *viszkozitás* és a *diffúzió*. \n",
    "\n",
    "Az **ideális gáz**t definiáljuk mint, nagyszámú, apró, gyorsmozgású golyók halmaza, melyek rendezetlen mozgásukkal - egymással és a tárolóedény falával rugalmasan ütközve - kitöltik a rendelkezésükre álló teret.\n",
    "\n",
    "**Az ideális gázok modellje**:\n",
    "- A részecskék száma kellően nagy ahhoz, hogy a *statisztikai leírás indokolt legyen* és a részecskék által kitöltött térfogat *homogén hőmérsékleteloszlású* legyen. `Sok... `\n",
    "- Az ideális gáz részecskéi *nagyon kicsik*. Azaz a részecskék össztérfogata elhanyagolható a tárolóedény űrtartalmához képest. `...pici... `\n",
    "- A gyorsmozgású részecskék egymással és az edény falával is folyamatosan, *pillanatszerűen és rugalmasan ütköznek*. Így a részecskéket modellezhetjük tökéletesen tömör gömbökként. `...piros pont száguldozik és ütközik... `\n",
    "- Az ütközéseket leszámítva, a részecskék közti egyéb kölcsönhatásoktól eltekintünk. `...és kész.`\n",
    "\n",
    "Rugalmas ütközés során, könnyen belátható, hogy az alábbiak szerint alakulnak az ütközés utáni sebeségek:\n",
    "$\\begin{equation} \\mathbf{u}_1 = \\mathbf{v}_1 - \\frac{(\\mathbf{v}_1-\\mathbf{v}_2)\\cdot(\\mathbf{r}_1-\\mathbf{r}_2)}{|\\mathbf{r}_1-\\mathbf{r}_2|^2}\\cdot(\\mathbf{r}_1-\\mathbf{r}_2) \\tag{1.1}\\end{equation}$\n",
    "$\\begin{equation} \\mathbf{u}_2 = \\mathbf{v}_2 - \\frac{(\\mathbf{v}_2-\\mathbf{v}_1)\\cdot(\\mathbf{r}_2-\\mathbf{r}_1)}{|\\mathbf{r}_1-\\mathbf{r}_2|^2}\\cdot(\\mathbf{r}_2-\\mathbf{r}_1) \\tag{1.2}\\end{equation}$\n",
    "Ahol:\n",
    "- $\\mathbf{r}_i\\in\\mathbb{R}^2$ az $i$. indexű részecske helye\n",
    "- $\\mathbf{v}_i\\in\\mathbb{R}^2$ az $i$. indexű részecske sebessége az ütközés előtt\n",
    "- $\\mathbf{u}_i\\in\\mathbb{R}^2$ az $i$. indexű részecske sebessége az ütközés után\n",
    "\n",
    "Feladatunk a modell elkészítése és vizualizációja `Matplotlib` library segítségével:\n",
    "<p align=\"center\">\n",
    "  <img src=\"output.png?\" width=\"400\" />\n",
    "</p>"
   ]
  },
  {
   "cell_type": "markdown",
   "metadata": {},
   "source": [
    "## Megoldás"
   ]
  },
  {
   "cell_type": "markdown",
   "metadata": {},
   "source": [
    "### Szükséges importok a feladatmegoldáshoz"
   ]
  },
  {
   "cell_type": "code",
   "execution_count": null,
   "metadata": {},
   "outputs": [],
   "source": [
    "import numpy as np                              # Alapvető matematikai eszköztár\n",
    "import matplotlib.pyplot as plt                 # Plotoláshoz\n",
    "import matplotlib                   \n",
    "from matplotlib import animation                # Animációk készítéséhez\n",
    "from matplotlib.animation import PillowWriter   # .gif formátumba való exportáláshoz\n",
    "from itertools import combinations"
   ]
  },
  {
   "cell_type": "markdown",
   "metadata": {},
   "source": [
    "### Kezdeti paraméterek inicializálása"
   ]
  },
  {
   "cell_type": "markdown",
   "metadata": {},
   "source": [
    "Minden fizikai szimuláció kezdetekor **inicializáljuk az összes szükséges paramétert**! A kulcsmondat: `Sok, pici, piros pont száguldozik és ütközik és kész.` Azaz definiáljuk a részecskék számát, a részecskék méretét, emellett a helyét és a sebességét is!\n",
    "\n",
    "Random számokat (egyenletes eloszlás alapján) az `np.random.random()` függvény segítségével tudunk generálni. Fontos, hogy ez a függvény $0$ és $1$ között egy *valós számot* generál! Az `np.random.uniform()` segítségével tetszőleges intervallumon tudunk random számokat generálni.\n",
    "\n",
    "*<span style=\"color:teal\">Megjegyzés: a kódolás elején célszerű inkább kevesebb és nagyobb pontot tekinteni! Több ezer pont esetén több 10 percet is igénybevehet a szimuláció lefutása, ez pedig nagyban megnehezíti a debuggolást!</span>* "
   ]
  },
  {
   "cell_type": "code",
   "execution_count": null,
   "metadata": {},
   "outputs": [],
   "source": [
    "# Az adatok definiálása\n",
    "\n",
    "# Helyvektorok (R^2) inicializálása\n",
    "\n",
    "# Sebességvektorok (R^2) inicializálása\n",
    "\n",
    "# Felcímkézzük az egyes pontokat\n"
   ]
  },
  {
   "cell_type": "markdown",
   "metadata": {},
   "source": [
    "Ezt követően ábrázoljuk a kezdeti állapotot!"
   ]
  },
  {
   "cell_type": "code",
   "execution_count": null,
   "metadata": {},
   "outputs": [],
   "source": [
    "# Kezdeti állapot megjelenítése\n"
   ]
  },
  {
   "cell_type": "markdown",
   "metadata": {},
   "source": [
    "### Ütközések szimulációja"
   ]
  },
  {
   "cell_type": "markdown",
   "metadata": {},
   "source": [
    "A `Sok, pici, piros pont száguldozik és ütközik és kész.` kulcsmondat `Sok, pici, piros pont száguldozik` részét már sikeresen teljesítettük! Most pedig jöhet az `ütközik`, ami már egy fokkal bonyolultabb lépésekből áll.\n",
    "\n",
    "Járjunk el a következő módon:\n",
    "- **1. lépés**: Határozzuk meg az összes pontpár közti távolságot!\n",
    "$$ d = \\sqrt{\\Delta x^2 + \\Delta y^2}$$\n",
    "- **2. lépés**: Ha $d < 2r$, akkor a rugalmas ütközés egyenletei alapján kiszámoljuk az új sebességeket.\n",
    "- **3. lépés**: Ha a tárolóedény falával ütközik a részecske, akkor a falra merőleges sebességkomponens előjelet vált.\n",
    "\n",
    "Így már tudjuk modellezni a mozgást!"
   ]
  },
  {
   "cell_type": "markdown",
   "metadata": {},
   "source": [
    "#### 1. lépés: Pontpárok távolságának meghatározása"
   ]
  },
  {
   "cell_type": "markdown",
   "metadata": {},
   "source": [
    "<p align=\"center\">\n",
    "  <img src=\"maneuver.png?\" width=\"400\" />\n",
    "</p>\n",
    "\n",
    "Páronként minden pont távolságát meg kell vizsgálnunk ahhoz, hogy eldöntsük, mely részecskék fognak ütközni. Ebben most mélyedjünk el egy pillanatra: $N=100$ pont esetén ez $100\\cdot 99/2 = 4950$ távolságot definiál, $N=1000$ pontra ez már $499.500$ párt jelent! Tehát amíg $10$-szeresére növeltük a részecskék számát, a vizsgálandó párok száma $100$-szeresére, azaz $10^2$-szeresére nőtt!\n",
    "\n",
    "A Computer Science nyelvén azt mondjuk, hogy ezen algoritmus komplexitása $\\mathcal O(n^2)$ (ordó n-négyzetes, vagy kvadratikus idejű). Az $\\mathcal O(n^2)$ komplexitás egyébként kimondottan rossz, és lassú futást eredményez nagy $N$ esetén. \n",
    "\n",
    "Az algoritmuselméletben az alábbi komplexitásokkal találkozhatunk gyakran:\n",
    "- Gyors futási idő: $\\mathcal O(1)$, $\\mathcal O(\\log n)$, $\\mathcal O(\\sqrt{n})$\n",
    "- Közepes futási idő: $\\mathcal O(n)$, $\\mathcal O(n\\log n)$\n",
    "- Lassú futási idő: $\\mathcal O(n^2)$, $\\mathcal O(n^3)$, $\\mathcal O(2^n)$, $\\mathcal O(n!)$"
   ]
  },
  {
   "cell_type": "code",
   "execution_count": null,
   "metadata": {},
   "outputs": [],
   "source": [
    "# Felírjuk az összes párosítást\n",
    "\n",
    "# Felírjuk az egyes pontok x és y koordinátáit\n",
    "\n",
    "# Kiszámítjuk x és y irányban az eltéréseket\n",
    "\n",
    "# Ezt követően Pitagorasz-tétellel adódik a távolság"
   ]
  },
  {
   "cell_type": "markdown",
   "metadata": {},
   "source": [
    "#### 2. lépés: Ütközések modellezése"
   ]
  },
  {
   "cell_type": "markdown",
   "metadata": {},
   "source": [
    "Feltételezzük, hogy azon részecskék fognak ütközni, melyek távolsága kisebb, mint $2r$, amikor már a részecskék egymásban lennének. A kinetikus gázmodellben feltételezzük az *energia-*, *lendület-* és *perdületmegmaradás*t, ezért a gázrészecskék között **pillanatszerű, rugalmas ütközés**t teszünk fel. \n",
    "\n",
    "Rugalmas ütközés során, könnyen belátható, hogy az alábbiak szerint alakulnak az ütközés utáni sebeségek:\n",
    "$\\begin{equation} \\mathbf{u}_1 = \\mathbf{v}_1 - \\frac{(\\mathbf{v}_1-\\mathbf{v}_2)\\cdot(\\mathbf{r}_1-\\mathbf{r}_2)}{|\\mathbf{r}_1-\\mathbf{r}_2|^2}\\cdot(\\mathbf{r}_1-\\mathbf{r}_2) \\tag{1.1}\\end{equation}$\n",
    "$\\begin{equation} \\mathbf{u}_2 = \\mathbf{v}_2 - \\frac{(\\mathbf{v}_2-\\mathbf{v}_1)\\cdot(\\mathbf{r}_2-\\mathbf{r}_1)}{|\\mathbf{r}_1-\\mathbf{r}_2|^2}\\cdot(\\mathbf{r}_2-\\mathbf{r}_1) \\tag{1.2}\\end{equation}$\n"
   ]
  },
  {
   "cell_type": "code",
   "execution_count": null,
   "metadata": {},
   "outputs": [],
   "source": [
    "# Ütköző párok meghatározása\n",
    "\n",
    "# Sebességek definiálása\n",
    "\n",
    "# Helyvektorok definiálása\n",
    "\n",
    "# Az új sebességek\n"
   ]
  },
  {
   "cell_type": "markdown",
   "metadata": {},
   "source": [
    "#### Segéd lépés: Eddigiek összefoglalása függvényekbe"
   ]
  },
  {
   "cell_type": "code",
   "execution_count": null,
   "metadata": {},
   "outputs": [],
   "source": [
    "def Δxy_pairs(x, particle_pairs):\n",
    "    return np.diff(np.array([x[particle_pairs[:,0]], x[particle_pairs[:,1]]]).T, axis=1).ravel()\n",
    "\n",
    "def d_pairs(r, particle_pairs):\n",
    "    return np.sqrt(Δxy_pairs(r[0], particle_pairs)**2 + Δxy_pairs(r[1], particle_pairs))\n",
    "\n",
    "def collision(v1, v2, r1, r2):\n",
    "    u1 = v1 - ((v1-v2)*(r1-r2)).sum(axis=0)/np.sum((r1-r2)**2, axis=0) * (r1-r2) \n",
    "    u2 = v2 - ((v2-v1)*(r2-r1)).sum(axis=0)/np.sum((r1-r2)**2, axis=0) * (r2-r1) \n",
    "    return u1, u2"
   ]
  },
  {
   "cell_type": "markdown",
   "metadata": {},
   "source": [
    "#### 3. lépés: A mozgás leírása\n",
    "Az animációt úgy készítjük el, hogy egy `t` \"időtartamot\", `dt` lépésközökkel végigjárunk. Az `r` és `v` változókban mindig egy adott aktuális állapotot tárolunk el, és ezeket összefüzzük egy `t` lépés hosszú tömbbökbe: `R`, `V`.\n",
    "\n",
    "Amit minden `i`. iterációs lépésben meg kell vizsgálnunk:\n",
    "- Mely részecskék fognak ütközni egymással? Mi lesz utána a sebességük?\n",
    "- Mely részecskék fognak ütközni a fallal? Mi lesz utána a sebességük?\n",
    "- Ha adottak a sebességek, akkor egyenesen vonalú egyenletes mozgással haladnak tovább a részecskék `dt` ideig: $\\Delta r = v \\cdot \\Delta t$\n",
    "- Ezáltal megkapjuk az aktuális `r[i]` és `v[i]` állapotokat, amiket az `R` és `V` sorozatokhoz hozzáfűzünk."
   ]
  },
  {
   "cell_type": "code",
   "execution_count": null,
   "metadata": {},
   "outputs": [],
   "source": [
    "def motion()\n",
    "\n",
    "    return R, V"
   ]
  },
  {
   "cell_type": "markdown",
   "metadata": {},
   "source": [
    "### Szimuláció\n",
    "Most már nincsen semmi dolgunk, csak összefoglalni az eddig megírt kódot és futtatni a szimulációt! Javaslom, hogy tekintsük át mik a bemenetei a rendszerre és milyen kimenetet szeretnénk látni! A kulcsmondat továbbra is: `Sok, pici, piros pont szágoldozik és ütközik és kész!`\n",
    "\n",
    "Tehát a bemenetek:\n",
    "- `sok`: részecskék száma - `N`\n",
    "- `pici`: részecskék mérete - `radius`\n",
    "- `száguldozik`: a részecskék helye - `r` és sebessége - `v`\n",
    "- `ütközik`: a részecskepárok ütköznek - `particlePairs`\n",
    "\n",
    "A kimenet pedig a mozgás maga lesz, azaz `t` idő alatt az `r` helyekből és `v` sebességekből álló sorozat: `R`, `V`"
   ]
  },
  {
   "cell_type": "code",
   "execution_count": null,
   "metadata": {},
   "outputs": [],
   "source": [
    "# Az adatok definiálása\n",
    "N = 1000                    # Részecskék száma\n",
    "radius = 0.0015             # Részecskék sugara\n",
    "\n",
    "# Helyvektorok (R^2) inicializálása\n",
    "r = np.random.random((2, N))                # N db R^2-beli vektor\n",
    "\n",
    "# Sebességvektorok (R^2) inicializálása\n",
    "v = np.random.uniform(-750, 750, (2,N))     # N db R^2-beli vektor\n",
    "\n",
    "# Felcímkézzük az egyes pontokat\n",
    "IDs = np.arange(N)\n",
    "\n",
    "# Elkészítjük a részecskepárokat\n",
    "particle_pairs = np.asarray(list(combinations(IDs, 2))\n",
    "\n",
    "# Szimuláljuk a mozgást\n"
   ]
  },
  {
   "cell_type": "markdown",
   "metadata": {},
   "source": [
    "### Animáció"
   ]
  },
  {
   "cell_type": "code",
   "execution_count": null,
   "metadata": {},
   "outputs": [],
   "source": [
    "fig, ax = plt.subplots(1,1,figsize=(5,5))\n",
    "\n",
    "x, y = R[0][0], R[0][1]\n",
    "circles = [plt.Circle((xi, yi), radius=radius, linewidth=0) for xi,yi in zip(x,y)]\n",
    "cred = matplotlib.collections.PatchCollection(circles, facecolors='red')\n",
    "ax.add_collection(cred)\n",
    "ax.set_xlim(0,1)\n",
    "ax.set_ylim(0,1)\n",
    "plt.show()"
   ]
  },
  {
   "cell_type": "code",
   "execution_count": null,
   "metadata": {},
   "outputs": [],
   "source": [
    "fig, ax = plt.subplots(1,1,figsize=(5,5))\n",
    "\n",
    "def animate(i):\n",
    "    ax.clear()\n",
    "    x, y = R[i][0], R[i][1]\n",
    "    circles = [plt.Circle((xi, yi), radius=2*radius, linewidth=0) for xi,yi in zip(x,y)]\n",
    "    cred = matplotlib.collections.PatchCollection(circles, facecolors='red')\n",
    "    ax.add_collection(cred)\n",
    "    ax.set_xlim(0,1)\n",
    "    ax.set_ylim(0,1)\n",
    "\n",
    "ani = animation.FuncAnimation(fig, animate, frames=1000, interval=50)\n",
    "ani.save('kinetic_gas3.gif', writer = 'pillow', fps=30, dpi = 100)"
   ]
  },
  {
   "cell_type": "markdown",
   "metadata": {},
   "source": [
    "# Epilógus"
   ]
  },
  {
   "cell_type": "markdown",
   "metadata": {},
   "source": [
    "### Hasznos anyagok:"
   ]
  },
  {
   "cell_type": "markdown",
   "metadata": {},
   "source": [
    "- Dokumentációk\n",
    "    - Python hivatalos dokumentációja: https://docs.python.org/3/\n",
    "    - [PEP 8](https://peps.python.org/pep-0008/) Style Guide for Python Code - Melyek a jó és rossz programozási praktikák\n",
    "    - NumPy hivatalos dokumentációja: https://numpy.org/doc/1.25/\n",
    "- Tankönyvek\n",
    "    - [Dive Into Python 3](http://diveintopython3.problemsolving.io/)\n",
    "    - [Dive into Deep Learning](https://d2l.ai/) - Interaktív tankönyv Deep Learninghez\n",
    "    - [Fluent Python: Clear, Concise, and Effective Programming by Luciano Ramalho](https://www.oreilly.com/library/view/fluent-python/9781491946237/) - Haladóbb szemléletű Python programozás\n",
    "- Útmutatók\n",
    "    - [The Official Python Tutorial](https://docs.python.org/3/tutorial/) - Self-explanatory?\n",
    "    - [Foglalt Keyword lista](https://docs.python.org/3.0/reference/lexical_analysis.html#id8) - Ezeket ne használd változónévnek!\n",
    "    - [Codecademy](https://www.codecademy.com/catalog) - Interaktív (fizetős) online tutorial\n",
    "    - [CheckIO](https://py.checkio.org/) - Tanulj Pythont játékfejlesztésen kersztül\n",
    "- Competitive Programming\n",
    "    - [Codewars](https://www.codewars.com/?language=python)\n",
    "    - [CodeForces](https://codeforces.com/)"
   ]
  },
  {
   "cell_type": "markdown",
   "metadata": {},
   "source": [
    "### Elérhetőség"
   ]
  },
  {
   "cell_type": "markdown",
   "metadata": {},
   "source": [
    "Bármilyen kérdés, kérés vagy probléma esetén keressetek minket az alábbi elérhetőségeken:\n",
    "- Monori Bence - m.bence02@outlook.hu\n",
    "- Wenesz Dominik - weneszdominik@gmail.com\n",
    "\n",
    "Illetve anonim üzenetküldésre is lehetőséget biztosítunk, ezt az alábbi linken tudjátok elérni: https://forms.gle/6VtGvhja3gq6CTT66"
   ]
  }
 ],
 "metadata": {
  "kernelspec": {
   "display_name": "base",
   "language": "python",
   "name": "python3"
  },
  "language_info": {
   "codemirror_mode": {
    "name": "ipython",
    "version": 3
   },
   "file_extension": ".py",
   "mimetype": "text/x-python",
   "name": "python",
   "nbconvert_exporter": "python",
   "pygments_lexer": "ipython3",
   "version": "3.10.9"
  },
  "orig_nbformat": 4
 },
 "nbformat": 4,
 "nbformat_minor": 2
}
