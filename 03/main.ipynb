{
 "cells": [
  {
   "attachments": {},
   "cell_type": "markdown",
   "metadata": {},
   "source": [
    "# 3. hét / Prológus"
   ]
  },
  {
   "attachments": {},
   "cell_type": "markdown",
   "metadata": {},
   "source": [
    "A mai órán a következő témákról lesz szó:\n",
    "- Feltételes elágazások: megismerkedünk a feltételes utasításokkal, azaz olyan kódrészleteket írunk, amelyek csak bizonyos feltételek teljesülésekor futnak le. ~ (15 perc)\n",
    "- Szimbolikus számítások sympy segítségével: megismerkedünk egy új csomaggal, amely alapvetően lehetőséget ad szimbólumokkal/változókkal való számolásra, így például egyenletek/egyenletrendszerek megoldására, kifejezések átrendezésére és még sok másra! ~(50-60 perc)\n",
    "- \"1. HF kiadása\""
   ]
  },
  {
   "attachments": {},
   "cell_type": "markdown",
   "metadata": {},
   "source": [
    "# 3. hét / I. Feltételes (if) utasítások"
   ]
  },
  {
   "attachments": {},
   "cell_type": "markdown",
   "metadata": {},
   "source": [
    "Programozás során gyakran szükség van arra, hogy bizonyos utasítások/utasítás sorozatok csak *egy adott feltétel esetén menjenek végbe*. Ezért a legtöbb programozási nyelv tartalmaz úgynevezet *feltételes elágazásokat*. A Python nyelvben a következő módon tudunk feltételes elágazást létrehozni:\n",
    "```\n",
    "if(<feltétel>):\n",
    "    <utasítás1>\n",
    "    <utasítás2>...\n",
    "else:\n",
    "    <utasítás3>\n",
    "    <utasítás4>...\n",
    "```\n",
    "Ekkor az `<utasítás1>`, `<utasítás2>`... csak akkor fog lefutni, ha a `<feltétel>` igaz. Ha pedig a feltétel nem teljesül, akkor az `<else>` ág fog lefutni. (Az else ágat egyébként nem muszáj megírni) Nézzünk erre egy példát, ahol két szám közül eldöntjük, hogy melyik a nagyobb:"
   ]
  },
  {
   "cell_type": "code",
   "execution_count": null,
   "metadata": {},
   "outputs": [],
   "source": [
    "# Definiáljuk a két számot:\n",
    "\n",
    "\n",
    "# Ha a nagyobb mint b...\n",
    "\n",
    "\n",
    "# Ha a feltétel nem teljesül:\n",
    "\n"
   ]
  },
  {
   "attachments": {},
   "cell_type": "markdown",
   "metadata": {},
   "source": [
    "Megadhatunk akár összetett feltételeket is a következő módon:\n",
    "- *ÉS kapcsolat*: `<feltetel1> and <feltetel2>` esetén mindkét feltételnek teljesülnie kell\n",
    "- *VAGY kapcsolat*: `<feltetel1> or <feltetel2>` esetén legalább az egyik feltételnek teljesülnie kell\n",
    "\n",
    "Nézzünk egy-egy példát ezekre! Definiáljunk 3 változót és nézzük meg, hogy:\n",
    "- A három megadott szám megegyezik-e?\n",
    "- Van legalább kettő ami megegyezik?\n",
    "\n",
    "Figyelem! Két számot mindig az `==` operátorral hasonlítunk össze! Az `if(a=b)` helytelen, ugyanis az `=` operátor az értékeadás operátor, ezért az `a` értékét a `b`-vel teszi egyenlővé, ahelyett, hogy összehasonlítaná őket!"
   ]
  },
  {
   "cell_type": "code",
   "execution_count": null,
   "metadata": {},
   "outputs": [],
   "source": [
    "# Definiáljunk 3 változót:\n",
    "\n",
    "\n",
    "\n"
   ]
  },
  {
   "attachments": {},
   "cell_type": "markdown",
   "metadata": {},
   "source": [
    "Ha az `else` ágba is szeretnénk tenni további feltételeket, ekkor használjuk az `elif(<feltétel>):` formátumot!  \n",
    "Például nézzük meg, hogy egy adott szám pozitív, negatív, avagy nulla!"
   ]
  },
  {
   "cell_type": "code",
   "execution_count": null,
   "metadata": {},
   "outputs": [],
   "source": [
    "# Definiáljuk a változót\n",
    "\n",
    "\n",
    "# Ha 'a' pozitív...\n",
    "\n",
    "\n",
    "\n",
    "# Ha nem pozitív, akkor még lehet 0, vagy negatív...\n",
    "\n",
    "\n",
    "\n",
    "# Ha az a se nem pozitív, se nem 0, akkor muszáj negatívnak lennie\n",
    "\n",
    "\n"
   ]
  },
  {
   "attachments": {},
   "cell_type": "markdown",
   "metadata": {},
   "source": [
    "# 3. hét / II. Mechanikai példa megoldása Python (Sympy) segítségével"
   ]
  },
  {
   "attachments": {},
   "cell_type": "markdown",
   "metadata": {},
   "source": [
    "## Feladatkitűzés\n",
    "\n",
    "Az alábbi tartónál a megengedett maximális normálfeszültség 6 [MPa]. Határozzuk meg a tartó $d$ átmérőjét úgy, hogy az hajlításra megfeleljen!\n",
    "\n",
    "![](feladatkituzes.svg)\n",
    "\n",
    "Adatok: $L_1,\\,L_2,\\,F,\\,p,\\,\\sigma_{meg},\\,a,\\,b,\\,c$"
   ]
  },
  {
   "attachments": {},
   "cell_type": "markdown",
   "metadata": {},
   "source": [
    "Importok és inicializálás: `numpy`, `sympy`"
   ]
  },
  {
   "cell_type": "code",
   "execution_count": null,
   "metadata": {},
   "outputs": [],
   "source": [
    "import numpy as np\n",
    "import sympy as sp\n",
    "from IPython.display import Math\n",
    "import matplotlib.pyplot as plt\n",
    "\n",
    "sp.init_printing()"
   ]
  },
  {
   "attachments": {},
   "cell_type": "markdown",
   "metadata": {},
   "source": [
    "Készítsük el a szimbolikus karaktereket, amelyekkel majd a képleteinkben számolunk!\n",
    "Ehhez az `sp.symbols()` függvényt és `dictionary` formát használjuk!"
   ]
  },
  {
   "cell_type": "code",
   "execution_count": null,
   "metadata": {},
   "outputs": [],
   "source": [
    "# A szimbolikus változók létrehozása\n",
    "\n",
    "# A számértékek hozzárendelése\n"
   ]
  },
  {
   "attachments": {},
   "cell_type": "markdown",
   "metadata": {},
   "source": [
    "## 1. feladat: A reakcióerők meghatározása\n",
    "Oldjuk meg az alábbi egyenletrendszert:\n",
    "$\\begin{equation} \\sum F_x = 0 \\quad A_x = 0 \\tag{1.1}\\end{equation}$\n",
    "$\\begin{equation} \\sum F_y = 0 \\quad A_y+B_y-pL_1-F = 0 \\tag{1.2}\\end{equation}$\n",
    "$\\begin{equation} \\sum M_A = 0 \\quad B_yL_1 - F(L_1+L_2)-\\dfrac{pL_1^2}{2}=0 \\tag{1.3}\\end{equation}$\n",
    "A közönséges egyenletek megoldásához használhatjuk a `sp.solve(<egyenlet>, <ismeretlen>)` függvényt. Fontos, hogy az `<egyenlet>` **0-ra rendezett** (redukált) formában kell, hogy szerepeljen.\n",
    "Nézzünk is meg erre egy példát!\n",
    "\n",
    "A (3)-as egyenlet már önmagában 0-ra redukált formában szerepel, ezért:  \n",
    "`<egyenlet>` -> `B_y*L_1-F*(L_1+L_2)-(p*L_1**2)/2`  \n",
    "`<ismeretlen>` -> `B_y`"
   ]
  },
  {
   "cell_type": "code",
   "execution_count": null,
   "metadata": {},
   "outputs": [],
   "source": [
    "# Oldjuk meg a (3)-as egyenletet!\n",
    "\n"
   ]
  },
  {
   "attachments": {},
   "cell_type": "markdown",
   "metadata": {},
   "source": [
    "Miután lefuttatjuk a `sp.solve()` függvényt, megkapjuk formálisan/szimbolikusan a végeredményt. *Milyen típusú adatot ad vissza a `sp.solve()` függvény?*  *Mit tudunk tenni annak érdekében, hogy tudjunk vele dolgozni?*\n",
    "\n",
    "Ha szeretnénk behelyettesíteni a kapott kifejezésbe, akkor a `.subs(<adatok>)` metódussal ezt megtehetjük!\n",
    "\n",
    "<span style=\"color:teal\">*Megjegyzés: a metódusokról még nem volt behatóan szó, had vetítsem előre a következő hét anyagát.Minden olyan függvényt, amelyet csak egy bizonyos osztályhoz társítunk,* **metódusnak** *nevezünk. A metódusok azok ugyanolyan függvények, mint amelyekkel már korábban találkoztunk, ugyanazt a szerepet is töltik be, viszont ezek csak bizonyos osztályok példányain, adattagjain hívhatóak meg. Úgy kell ezt elképzelni, mintha \"csak bizonyos objektumokra lenne értelmezve/definiálva egy függvény\". Ezért van az, hogy `<adattag>.<metódus>` szintaktikával hívhatjuk meg ezeket, ugyanis önmagukban nincs értelmük! Például egy matematikai kifejezésen meghívni a `.subs()` metódust van értelme, abba be tudunk helyettesíteni, de ha egy változóba eltárolok egy URL-t, egy linket, abba nincs értelme \"behelyettesíteni\", ezért nem is lehet rajta meghívni ezt a metódust.* </span>\n"
   ]
  },
  {
   "cell_type": "code",
   "execution_count": null,
   "metadata": {},
   "outputs": [],
   "source": [
    "# Válasszuk ki a B_y-hoz tartozó kifejezést ~ egy 1 elemű tömb első eleme\n",
    "\n",
    "\n",
    "\n",
    "# Helyettesítsünk be!\n",
    "\n",
    "print(\"A B_y erő nagysága: \" + str(B_yn) + \" [kN]\")\n",
    "\n",
    "# Az adatokhoz ezt követően adjuk hozzá a B_y-t!\n"
   ]
  },
  {
   "attachments": {},
   "cell_type": "markdown",
   "metadata": {},
   "source": [
    "Hasonló módszerrel most határozzuk meg az $A_y$ erőt is!"
   ]
  },
  {
   "cell_type": "code",
   "execution_count": null,
   "metadata": {},
   "outputs": [],
   "source": [
    "# Oldjuk meg a (2)-es egyenletet az sp.solve() segítségével!\n",
    "\n",
    "\n",
    "\n",
    "# Helyettesítsünk be és adjuk hozzá az adatokhoz A_y értékét!\n",
    "\n",
    "\n",
    "print(\"Az A_y erő nagysága: \" + str(A_yn) + \" [kN]\")"
   ]
  },
  {
   "attachments": {},
   "cell_type": "markdown",
   "metadata": {},
   "source": [
    "A fenti módszerrel látjuk, hogy nagyon könnyen megoldhatóvá válik egy egyenletrendszer, de alapvetően itt kihasználtuk, hogy a harmadik egyenlet *csak egy ismeretlent tartalmazott*, ezért egyesével vissza tudtuk fejteni a megoldást. A sympy természetesen lehetőséget kínál bonyolultabb rendszerek megoldására is.\n",
    "\n",
    "**Lineáris rendszerek** esetén két módszer is rendelkezésünkre áll. Csinálhatjuk azt, hogy a 0-ra redukált rendszert egy `rendszer = [<egyenlet1>,<egyenlet2>,...]` tömbben eltároljuk, míg az ismeretleneket egy `ismeretlenek = [<ismeretlen1>,<ismeretlen2>,...]` tömbben. Majd meghívva az `sp.linsolve(<rendszer>,<ismeretlenek>)` függvényt, az ismeretlenek sorrendjében megkapjuk az eredményt.   "
   ]
  },
  {
   "cell_type": "code",
   "execution_count": null,
   "metadata": {},
   "outputs": [],
   "source": [
    "# Oldjuk meg a lineáris rendszert az sp.linsolve() függvény segítségével!\n",
    "A_y, B_y = sp.symbols(\"A_y,B_y\")\n"
   ]
  },
  {
   "attachments": {},
   "cell_type": "markdown",
   "metadata": {},
   "source": [
    "Emellett gyakran előfordul, hogy a lineáris rendszereket mátrixos formában írjuk fel. Nézzük is meg az eredeti egyenletrendszert mátrixos formában:\n",
    "$\\begin{equation}\\underbrace{\\begin{bmatrix} 1 & 1 \\\\ 0 & L_1\\end{bmatrix}}_{=\\mathbf{A}}\\begin{bmatrix}A_y \\\\ B_y \\end{bmatrix} = \\underbrace{\\begin{bmatrix} pL_1+F \\\\ F(L_1+L_2)+\\dfrac{pL_1^2}{L_2} \\end{bmatrix}}_{=\\mathbf{b}}  \\tag{1.4}\\end{equation}$\n",
    "Ekkor az `A` változóba az együtthatómátrixot és a `b` változóba konstansokból képzett vektort, a `Matrix()` függvény segítségével tudjuk felírni. Az egyenletrendszert a `linsolve((<A>,<b>),[<ismeretlen1>,<ismeretlen2>],...)` függvénnyel kapjuk.\n"
   ]
  },
  {
   "cell_type": "code",
   "execution_count": null,
   "metadata": {},
   "outputs": [],
   "source": [
    "# Töltsük fel az együtthatómátrixot és a konstansokból képzett vektort\n",
    "\n",
    "\n",
    "\n",
    "# Definiáljuk a rendszert, és megoldjuk az egyenletrendszert\n",
    "\n",
    "\n"
   ]
  },
  {
   "attachments": {},
   "cell_type": "markdown",
   "metadata": {},
   "source": [
    "<span style=\"color:teal\"> *Megjegyzés: természetesen mi csak egy nagyon szűk szeletét tekintettük át az egyenletek megoldásának. A sympy egy lényegesen erősebb matematikai apparátussal rendelkezik, ezért képes elbánni egyenlőtlenségekkel, nemlineáris egyeneltrendszerekkel (`sp.nonlinsolve(<rendszer>,[<ismeretlenek>])`), a közönséges, sőt még a parciális differenciálegyenletek egy jelentős részével is! Ezekről bővebben: https://docs.sympy.org/latest/modules/solvers/solvers.html*</span>"
   ]
  },
  {
   "attachments": {},
   "cell_type": "markdown",
   "metadata": {},
   "source": [
    "## 2. feladat: Igénybevételi függvények ábrázolása\n",
    "Osszuk két szakaszra a rudat:\n",
    "$\\begin{equation} I.\\quad x\\in(0,L_1)\\quad\\quad\\quad II. \\quad x\\in(L_1,L_1+L_2)\\tag{2.1}\\end{equation}$\n",
    "Ekkor az igénybevételi függvények:\n",
    "$\\begin{align} V_1(x)&=A_y-px & V_2(x)&=F \\tag{2.2}\\\\  M_{h1}(x)&=-A_yx+\\dfrac{px^2}{2} & M_{h2}(x)&=F(L_1+L_2-x)\\tag{2.3}\\end{align}$\n",
    "Ábrázoljuk a fenti függvényeket és keressük meg a hajlítás szempontjából veszélyes keresztmetszetet!"
   ]
  },
  {
   "cell_type": "code",
   "execution_count": null,
   "metadata": {},
   "outputs": [],
   "source": [
    "# Készítsük el az x és y pontjainkat!\n",
    "\n",
    "\n",
    "# Ezt követően plotoljuk a pontokat!\n",
    "\n"
   ]
  },
  {
   "cell_type": "code",
   "execution_count": null,
   "metadata": {},
   "outputs": [],
   "source": [
    "# Készítsük el az x és y pontjainkat!\n",
    "\n",
    "\n",
    "# Ezt követően plotoljuk a pontokat!\n"
   ]
  },
  {
   "attachments": {},
   "cell_type": "markdown",
   "metadata": {},
   "source": [
    "## 3. feladat - A $d$ paraméter meghatározása\n",
    "Tudjuk, hogy a $d$ paraméternek az alábbi egyenletet kell kielégítenie, hogy szilárdságtanilag biztonságos legyen a szerkezet:\n",
    "$\\begin{equation}\\dfrac{25}{3}\\cdot d^2+9375\\cdot d-1406250+70312500\\cdot\\dfrac{1}{d} > 4000000\\tag{3.1}\\end{equation}$\n",
    "Viszont a valóságban nem feltétlenül szeretnénk, ha csak egy kicsivel lennénk a megadott, szilárdságtani határ felett, ezért amíg a megadott 4000000-et legalább 10%-kal nem lépjük túl, mondjuk azt, hogy csak *éppen stabil* a rendszer.\n",
    "Írjunk egy *függvényt*, amellyel eldönthetjük egy adott $d$ paraméterről, hogy megfelel-e (a függvény visszatérési értéke legyen egy `string`, amely tartalmazza az információt); és írassuk ki az alábbi értékek esetén a döntést:\n",
    "- $d=247.15\\;[\\text{mm}]$\n",
    "- $d=409.38\\;[\\text{mm}]$\n",
    "- $d=533.96\\;[\\text{mm}]$\n"
   ]
  },
  {
   "cell_type": "code",
   "execution_count": null,
   "metadata": {},
   "outputs": [],
   "source": [
    "# Definiáljunk egy függvényt, melynek bemenő paramétere a d!\n",
    "def meretezes(d):\n",
    "    \n",
    "    return\n",
    "\n",
    "print(meretezes(247.15))\n",
    "print(meretezes(409.38))\n",
    "print(meretezes(533.96))\n"
   ]
  },
  {
   "cell_type": "markdown",
   "metadata": {},
   "source": [
    "# 3.hét / Epilógus"
   ]
  },
  {
   "cell_type": "markdown",
   "metadata": {},
   "source": [
    "### Hasznos anyagok:"
   ]
  },
  {
   "cell_type": "markdown",
   "metadata": {},
   "source": [
    "- Dokumentációk\n",
    "    - Python hivatalos dokumentációja: https://docs.python.org/3/\n",
    "    - [PEP 8](https://peps.python.org/pep-0008/) Style Guide for Python Code - Melyek a jó és rossz programozási praktikák\n",
    "    - NumPy hivatalos dokumentációja: https://numpy.org/doc/1.25/\n",
    "- Tankönyvek\n",
    "    - [Dive Into Python 3](http://diveintopython3.problemsolving.io/)\n",
    "    - [Dive into Deep Learning](https://d2l.ai/) - Interaktív tankönyv Deep Learninghez\n",
    "    - [Fluent Python: Clear, Concise, and Effective Programming by Luciano Ramalho](https://www.oreilly.com/library/view/fluent-python/9781491946237/) - Haladóbb szemléletű Python programozás\n",
    "- Útmutatók\n",
    "    - [The Official Python Tutorial](https://docs.python.org/3/tutorial/) - Self-explanatory?\n",
    "    - [Foglalt Keyword lista](https://docs.python.org/3.0/reference/lexical_analysis.html#id8) - Ezeket ne használd változónévnek!\n",
    "    - [Codecademy](https://www.codecademy.com/catalog) - Interaktív (fizetős) online tutorial\n",
    "    - [CheckIO](https://py.checkio.org/) - Tanulj Pythont játékfejlesztésen kersztül\n",
    "- Competitive Programming\n",
    "    - [Codewars](https://www.codewars.com/?language=python)\n",
    "    - [CodeForces](https://codeforces.com/)"
   ]
  },
  {
   "cell_type": "markdown",
   "metadata": {},
   "source": [
    "### Elérhetőség"
   ]
  },
  {
   "cell_type": "markdown",
   "metadata": {},
   "source": [
    "Bármilyen kérdés, kérés vagy probléma esetén keressetek minket az alábbi elérhetőségeken:\n",
    "- Monori Bence - m.bence02@outlook.hu\n",
    "- Wenesz Dominik - weneszdominik@gmail.com\n",
    "\n",
    "Illetve anonim üzenetküldésre is lehetőséget biztosítunk, ezt az alábbi linken tudjátok elérni: https://forms.gle/6VtGvhja3gq6CTT66"
   ]
  }
 ],
 "metadata": {
  "kernelspec": {
   "display_name": "Python 3",
   "language": "python",
   "name": "python3"
  },
  "language_info": {
   "codemirror_mode": {
    "name": "ipython",
    "version": 3
   },
   "file_extension": ".py",
   "mimetype": "text/x-python",
   "name": "python",
   "nbconvert_exporter": "python",
   "pygments_lexer": "ipython3",
   "version": "3.10.5"
  },
  "orig_nbformat": 4,
  "vscode": {
   "interpreter": {
    "hash": "a8b8071b7cad73449d769ceeab0d9580a986764c62a9bfc7da9b56ab60bdabbd"
   }
  }
 },
 "nbformat": 4,
 "nbformat_minor": 2
}
