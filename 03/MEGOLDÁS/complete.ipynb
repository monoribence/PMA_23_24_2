{
 "cells": [
  {
   "cell_type": "markdown",
   "metadata": {},
   "source": [
    "# 3. hét / Prológus"
   ]
  },
  {
   "attachments": {},
   "cell_type": "markdown",
   "metadata": {},
   "source": [
    "A mai órán a következő témákról lesz szó:\n",
    "- Feltételes elágazások: megismerkedünk a feltételes utasításokkal, azaz olyan kódrészleteket írunk, amelyek csak bizonyos feltételek teljesülésekor futnak le. ~ (10 perc)\n",
    "- Szimbolikus számítások sympy segítségével: megismerkedünk egy új csomaggal, amely alapvetően lehetőséget ad szimbólumokkal/változókkal való számolásra, így például egyenletek/egyenletrendszerek megoldására, kifejezések átrendezésére és még sok másra!"
   ]
  },
  {
   "attachments": {},
   "cell_type": "markdown",
   "metadata": {},
   "source": [
    "# 3. hét / I. Feltételes (if) utasítások"
   ]
  },
  {
   "attachments": {},
   "cell_type": "markdown",
   "metadata": {},
   "source": [
    "Programozás során gyakran szükség van arra, hogy bizonyos utasítások/utasítás sorozatok csak *egy adott feltétel esetén menjenek végbe*. Ezért a legtöbb programozási nyelv tartalmaz úgynevezet *feltételes elágazásokat*. A Python nyelvben a következő módon tudunk feltételes elágazást létrehozni:\n",
    "```\n",
    "if(<feltétel>):\n",
    "    <utasítás1>\n",
    "    <utasítás2>...\n",
    "else:\n",
    "    <utasítás3>\n",
    "    <utasítás4>...\n",
    "```\n",
    "Ekkor az `<utasítás1>`, `<utasítás2>`... csak akkor fog lefutni, ha a `<feltétel>` igaz. Ha pedig a feltétel nem teljesül, akkor az `<else>` ág fog lefutni. (Az else ágat egyébként nem muszáj megírni) Nézzünk erre egy példát, ahol két szám közül eldöntjük, hogy melyik a nagyobb:"
   ]
  },
  {
   "cell_type": "code",
   "execution_count": 1,
   "metadata": {},
   "outputs": [],
   "source": [
    "# Definiáljuk a két számot:\n",
    "a,b = 2,5\n",
    "\n",
    "# Ha a nagyobb, mint b...\n",
    "if(a>b):\n",
    "    print(\"Az a nagyobb, mint a b\")\n",
    "# Ha a egyenlő b-vel\n",
    "if(a == b):\n",
    "    print(\"Az a és b egyenlő\")\n",
    "\n",
    "# Ha a kisebb, mint b\n",
    "    print(\"Az a kisebb, mint a b\")"
   ]
  },
  {
   "attachments": {},
   "cell_type": "markdown",
   "metadata": {},
   "source": [
    "Megadhatunk akár összetett feltételeket is a következő módon:\n",
    "- *ÉS kapcsolat*: `<feltetel1> and <feltetel2>` esetén mindkét feltételnek teljesülnie kell\n",
    "- *VAGY kapcsolat*: `<feltetel1> or <feltetel2>` esetén legalább az egyik feltételnek teljesülnie kell\n",
    "\n",
    "Nézzünk egy-egy példát ezekre! Definiáljunk 3 változót és nézzük meg, hogy:\n",
    "- A három megadott szám megegyezik-e?\n",
    "- Van legalább kettő ami megegyezik?\n",
    "\n",
    "Figyelem! Két számot mindig az `==` operátorral hasonlítunk össze! Az `if(a=b)` helytelen, ugyanis az `=` operátor az értékeadás operátor, ezért az `a` értékét a `b`-vel teszi egyenlővé, ahelyett, hogy összehasonlítaná őket!"
   ]
  },
  {
   "cell_type": "code",
   "execution_count": 231,
   "metadata": {},
   "outputs": [],
   "source": [
    "# Definiáljunk 3 változót:\n",
    "a,b,c = 1,2,3\n",
    "if(a == b and b == c):\n",
    "    print(\"Mindhárom szám egyenlő egymással\")\n",
    "if(a == b or b == c or a == c):\n",
    "    print(\"Van legalább két azonos szám\")"
   ]
  },
  {
   "attachments": {},
   "cell_type": "markdown",
   "metadata": {},
   "source": [
    "Ha az `else` ágba is szeretnénk tenni további feltételeket, ekkor használjuk az `elif(<feltétel>):` formátumot!  \n",
    "Például nézzük meg, hogy egy adott szám pozitív, negatív, avagy nulla!"
   ]
  },
  {
   "cell_type": "code",
   "execution_count": 238,
   "metadata": {},
   "outputs": [
    {
     "name": "stdout",
     "output_type": "stream",
     "text": [
      "Az a szám negatív\n"
     ]
    }
   ],
   "source": [
    "# Definiáljuk a változót\n",
    "a = -5\n",
    "\n",
    "# Ha 'a' pozitív...\n",
    "if(a>0):\n",
    "    print(\"Az a szám pozitív\")\n",
    "\n",
    "# Ha nem pozitív, akkor még lehet 0, vagy negatív...\n",
    "elif(a==0):\n",
    "    print(\"Az a szám nulla\")\n",
    "\n",
    "# Ha az a se nem pozitív, se nem 0, akkor muszáj negatívnak lennie\n",
    "else:\n",
    "    print(\"Az a szám negatív\")\n"
   ]
  },
  {
   "attachments": {},
   "cell_type": "markdown",
   "metadata": {},
   "source": [
    "# 3. hét / II. Mechanikai példa megoldása Python (Sympy) segítségével"
   ]
  },
  {
   "attachments": {},
   "cell_type": "markdown",
   "metadata": {},
   "source": [
    "## Feladatkitűzés\n",
    "\n",
    "Az alábbi tartónál a megengedett maximális normálfeszültség 6 [MPa]. Határozzuk meg a tartó $d$ átmérőjét úgy, hogy az hajlításra megfeleljen!\n",
    "\n",
    "![](fig1.png)\n",
    "\n",
    "Adatok: $L_1,\\,L_2,\\,F,\\,p,\\,\\sigma_{meg},\\,a,\\,b,\\,c$"
   ]
  },
  {
   "attachments": {},
   "cell_type": "markdown",
   "metadata": {},
   "source": [
    "Importok és inicializálás: `numpy`, `sympy`"
   ]
  },
  {
   "cell_type": "code",
   "execution_count": 139,
   "metadata": {},
   "outputs": [],
   "source": [
    "import numpy as np\n",
    "import sympy as sp\n",
    "from IPython.display import Math\n",
    "import matplotlib.pyplot as plt\n",
    "\n",
    "sp.init_printing()"
   ]
  },
  {
   "attachments": {},
   "cell_type": "markdown",
   "metadata": {},
   "source": [
    "Készítsük el a szimbolikus karaktereket, amelyekkel majd a képleteinkben számolunk!\n",
    "Ehhez az `sp.symbols()` függvényt és `dictionary` formát használjuk!"
   ]
  },
  {
   "cell_type": "code",
   "execution_count": 110,
   "metadata": {},
   "outputs": [],
   "source": [
    "# A szimbolikus változók létrehozása\n",
    "L_1, L_2, F, p, σ, a, b, c = sp.symbols(\"L_1,L_2,F,p,σ,a,b,c\")\n",
    "# A számértékek hozzárendelése\n",
    "adatok = [(L_1, 4),(L_2, 2),(F,12),(p,8),(σ,6),(b,75),(a,175),(c,25)]"
   ]
  },
  {
   "attachments": {},
   "cell_type": "markdown",
   "metadata": {},
   "source": [
    "## 1. feladat: A reakcióerők meghatározása\n",
    "Oldjuk meg az alábbi egyenletrendszert:\n",
    "$\\begin{equation} \\sum F_x = 0 \\quad A_x = 0 \\tag{1.1}\\end{equation}$\n",
    "$\\begin{equation} \\sum F_y = 0 \\quad A_y+B_y-pL_1-F = 0 \\tag{1.2}\\end{equation}$\n",
    "$\\begin{equation} \\sum M_A = 0 \\quad B_yL_1 - F(L_1+L_2)-\\dfrac{pL_1^2}{2}=0 \\tag{1.3}\\end{equation}$\n",
    "A közönséges egyenletek megoldásához használhatjuk a `sp.solve(<egyenlet>, <ismeretlen>)` függvényt. Fontos, hogy az `<egyenlet>` **0-ra rendezett** (redukált) formában kell, hogy szerepeljen.\n",
    "Nézzünk is meg erre egy példát!\n",
    "\n",
    "A (3)-as egyenlet már önmagában 0-ra redukált formában szerepel, ezért:  \n",
    "`<egyenlet>` -> `B_y*L_1-F*(L_1+L_2)-(p*L_1**2)/2`  \n",
    "`<ismeretlen>` -> `B_y`"
   ]
  },
  {
   "cell_type": "code",
   "execution_count": 117,
   "metadata": {},
   "outputs": [
    {
     "data": {
      "image/png": "[encoded data removed]",
      "text/latex": [
       "$\\displaystyle \\left[ F + \\frac{F L_{2}}{L_{1}} + \\frac{L_{1} p}{2}\\right]$"
      ],
      "text/plain": [
       "⎡    F⋅L₂   L₁⋅p⎤\n",
       "⎢F + ──── + ────⎥\n",
       "⎣     L₁     2  ⎦"
      ]
     },
     "execution_count": 117,
     "metadata": {},
     "output_type": "execute_result"
    }
   ],
   "source": [
    "# Oldjuk meg a (3)-as egyenletet!\n",
    "B_y = sp.symbols(\"B_y\")\n",
    "sp.solve(B_y*L_1-F*(L_1+L_2)-p*L_1**2/2,B_y)"
   ]
  },
  {
   "attachments": {},
   "cell_type": "markdown",
   "metadata": {},
   "source": [
    "Miután lefuttatjuk a `sp.solve()` függvényt, megkapjuk formálisan/szimbolikusan a végeredményt. *Milyen típusú adatot ad vissza a `sp.solve()` függvény?*  *Mit tudunk tenni annak érdekében, hogy tudjunk vele dolgozni?*\n",
    "\n",
    "Ha szeretnénk behelyettesíteni a kapott kifejezésbe, akkor a `.subs(<adatok>)` metódussal ezt megtehetjük!\n",
    "\n",
    "<span style=\"color:teal\">*Megjegyzés: a metódusokról még nem volt behatóan szó, had vetítsem előre a következő hét anyagát.Minden olyan függvényt, amelyet csak egy bizonyos osztályhoz társítunk,* **metódusnak** *nevezünk. A metódusok azok ugyanolyan függvények, mint amelyekkel már korábban találkoztunk, ugyanazt a szerepet is töltik be, viszont ezek csak bizonyos osztályok példányain, adattagjain hívhatóak meg. Úgy kell ezt elképzelni, mintha \"csak bizonyos objektumokra lenne értelmezve/definiálva egy függvény\". Ezért van az, hogy `<adattag>.<metódus>` szintaktikával hívhatjuk meg ezeket, ugyanis önmagukban nincs értelmük! Például egy matematikai kifejezésen meghívni a `.subs()` metódust van értelme, abba be tudunk helyettesíteni, de ha egy változóba eltárolok egy URL-t, egy linket, abba nincs értelme \"behelyettesíteni\", ezért nem is lehet rajta meghívni ezt a metódust.* </span>\n"
   ]
  },
  {
   "cell_type": "code",
   "execution_count": 118,
   "metadata": {},
   "outputs": [
    {
     "data": {
      "image/png": "[encoded data removed]",
      "text/latex": [
       "$\\displaystyle F + \\frac{F L_{2}}{L_{1}} + \\frac{L_{1} p}{2}$"
      ],
      "text/plain": [
       "    F⋅L₂   L₁⋅p\n",
       "F + ──── + ────\n",
       "     L₁     2  "
      ]
     },
     "metadata": {},
     "output_type": "display_data"
    },
    {
     "name": "stdout",
     "output_type": "stream",
     "text": [
      "A B_y erő nagysága: 34 [kN]\n"
     ]
    }
   ],
   "source": [
    "# Válasszuk ki a B_y-hoz tartozó kifejezést ~ egy 1 elemű tömb első eleme\n",
    "B_y = sp.solve(B_y*L_1-F*(L_1+L_2)-p*L_1**2/2,B_y)[0]\n",
    "display(B_y)\n",
    "\n",
    "# Helyettesítsünk be!\n",
    "B_yn = B_y.subs(adatok)\n",
    "print(\"A B_y erő nagysága: \" + str(B_yn) + \" [kN]\")\n",
    "\n",
    "# Az adatokhoz ezt követően adjuk hozzá a B_y-t!\n",
    "adatok.append((B_y,B_yn))"
   ]
  },
  {
   "attachments": {},
   "cell_type": "markdown",
   "metadata": {},
   "source": [
    "Hasonló módszerrel most határozzuk meg az $A_y$ erőt is!"
   ]
  },
  {
   "cell_type": "code",
   "execution_count": 119,
   "metadata": {},
   "outputs": [
    {
     "data": {
      "image/png": "[encoded data removed]",
      "text/latex": [
       "$\\displaystyle - \\frac{F L_{2}}{L_{1}} + \\frac{L_{1} p}{2}$"
      ],
      "text/plain": [
       "  F⋅L₂   L₁⋅p\n",
       "- ──── + ────\n",
       "   L₁     2  "
      ]
     },
     "metadata": {},
     "output_type": "display_data"
    },
    {
     "name": "stdout",
     "output_type": "stream",
     "text": [
      "Az A_y erő nagysága: 10 [kN]\n"
     ]
    }
   ],
   "source": [
    "# Oldjuk meg a (2)-es egyenletet az sp.solve() segítségével!\n",
    "A_y = sp.symbols(\"A_y\")\n",
    "A_y = sp.solve(A_y+B_y-p*L_1-F,A_y)[0]\n",
    "display(A_y)\n",
    "\n",
    "# Helyettesítsünk be és adjuk hozzá az adatokhoz A_y értékét!\n",
    "A_yn = A_y.subs(adatok)\n",
    "adatok.append((A_y,A_yn))\n",
    "print(\"Az A_y erő nagysága: \" + str(A_yn) + \" [kN]\")"
   ]
  },
  {
   "attachments": {},
   "cell_type": "markdown",
   "metadata": {},
   "source": [
    "A fenti módszerrel látjuk, hogy nagyon könnyen megoldhatóvá válik egy egyenletrendszer, de alapvetően itt kihasználtuk, hogy a harmadik egyenlet *csak egy ismeretlent tartalmazott*, ezért egyesével vissza tudtuk fejteni a megoldást. A sympy természetesen lehetőséget kínál bonyolultabb rendszerek megoldására is.\n",
    "\n",
    "**Lineáris rendszerek** esetén két módszer is rendelkezésünkre áll. Csinálhatjuk azt, hogy a 0-ra redukált rendszert egy `rendszer = [<egyenlet1>,<egyenlet2>,...]` tömbben eltároljuk, míg az ismeretleneket egy `ismeretlenek = [<ismeretlen1>,<ismeretlen2>,...]` tömbben. Majd meghívva az `sp.linsolve(<rendszer>,<ismeretlenek>)` függvényt, az ismeretlenek sorrendjében megkapjuk az eredményt.   "
   ]
  },
  {
   "cell_type": "code",
   "execution_count": 122,
   "metadata": {},
   "outputs": [
    {
     "data": {
      "image/png": "[encoded data removed]",
      "text/latex": [
       "$\\displaystyle \\left\\{\\left( \\frac{- 2 F L_{2} + L_{1}^{2} p}{2 L_{1}}, \\  \\frac{2 F L_{1} + 2 F L_{2} + L_{1}^{2} p}{2 L_{1}}\\right)\\right\\}$"
      ],
      "text/plain": [
       "⎧⎛            2                        2  ⎞⎫\n",
       "⎪⎜-2⋅F⋅L₂ + L₁ ⋅p  2⋅F⋅L₁ + 2⋅F⋅L₂ + L₁ ⋅p⎟⎪\n",
       "⎨⎜───────────────, ───────────────────────⎟⎬\n",
       "⎪⎝      2⋅L₁                 2⋅L₁         ⎠⎪\n",
       "⎩                                          ⎭"
      ]
     },
     "metadata": {},
     "output_type": "display_data"
    },
    {
     "data": {
      "image/png": "[encoded data removed]",
      "text/latex": [
       "$\\displaystyle \\left\\{\\left( 10, \\  34\\right)\\right\\}$"
      ],
      "text/plain": [
       "{(10, 34)}"
      ]
     },
     "metadata": {},
     "output_type": "display_data"
    }
   ],
   "source": [
    "# Oldjuk meg a lineáris rendszert az sp.linsolve() függvény segítségével!\n",
    "A_y, B_y = sp.symbols(\"A_y,B_y\")\n",
    "rendszer = [A_y+B_y-p*L_1-F,B_y*L_1-F*(L_1+L_2)-p*L_1**2/2]\n",
    "ismeretlenek = [A_y,B_y]\n",
    "display(sp.linsolve(rendszer,ismeretlenek))\n",
    "display(sp.linsolve(rendszer,ismeretlenek).subs(adatok))"
   ]
  },
  {
   "attachments": {},
   "cell_type": "markdown",
   "metadata": {},
   "source": [
    "Emellett gyakran előfordul, hogy a lineáris rendszereket mátrixos formában írjuk fel. Nézzük is meg az eredeti egyenletrendszert mátrixos formában:\n",
    "$\\begin{equation}\\underbrace{\\begin{bmatrix} 1 & 1 \\\\ 0 & L_1\\end{bmatrix}}_{=\\mathbf{A}}\\begin{bmatrix}A_y \\\\ B_y \\end{bmatrix} = \\underbrace{\\begin{bmatrix} pL_1+F \\\\ F(L_1+L_2)+\\dfrac{pL_1^2}{L_2} \\end{bmatrix}}_{=\\mathbf{b}}  \\tag{1.4}\\end{equation}$\n",
    "Ekkor az `A` változóba az együtthatómátrixot és a `b` változóba konstansokból képzett vektort, a `Matrix()` függvény segítségével tudjuk felírni. Az egyenletrendszert a `linsolve((<A>,<b>),[<ismeretlen1>,<ismeretlen2>],...)` függvénnyel kapjuk.\n"
   ]
  },
  {
   "cell_type": "code",
   "execution_count": 224,
   "metadata": {},
   "outputs": [
    {
     "data": {
      "image/png": "[encoded data removed]",
      "text/latex": [
       "$\\displaystyle \\left\\{\\left( \\frac{- F L_{2}^{2} + L_{1}^{2} L_{2} p - L_{1}^{2} p}{L_{1} L_{2}}, \\  \\frac{F L_{1} L_{2} + F L_{2}^{2} + L_{1}^{2} p}{L_{1} L_{2}}\\right)\\right\\}$"
      ],
      "text/plain": [
       "⎧⎛      2     2          2                  2     2  ⎞⎫\n",
       "⎪⎜- F⋅L₂  + L₁ ⋅L₂⋅p - L₁ ⋅p  F⋅L₁⋅L₂ + F⋅L₂  + L₁ ⋅p⎟⎪\n",
       "⎨⎜──────────────────────────, ───────────────────────⎟⎬\n",
       "⎪⎝          L₁⋅L₂                      L₁⋅L₂         ⎠⎪\n",
       "⎩                                                     ⎭"
      ]
     },
     "metadata": {},
     "output_type": "display_data"
    },
    {
     "data": {
      "image/png": "[encoded data removed]",
      "text/latex": [
       "$\\displaystyle \\left\\{\\left( \\frac{- F L_{2}^{2} + L_{1}^{2} L_{2} p - L_{1}^{2} p}{L_{1} L_{2}}, \\  \\frac{F L_{1} L_{2} + F L_{2}^{2} + L_{1}^{2} p}{L_{1} L_{2}}\\right)\\right\\}$"
      ],
      "text/plain": [
       "⎧⎛      2     2          2                  2     2  ⎞⎫\n",
       "⎪⎜- F⋅L₂  + L₁ ⋅L₂⋅p - L₁ ⋅p  F⋅L₁⋅L₂ + F⋅L₂  + L₁ ⋅p⎟⎪\n",
       "⎨⎜──────────────────────────, ───────────────────────⎟⎬\n",
       "⎪⎝          L₁⋅L₂                      L₁⋅L₂         ⎠⎪\n",
       "⎩                                                     ⎭"
      ]
     },
     "metadata": {},
     "output_type": "display_data"
    },
    {
     "data": {
      "image/png": "[encoded data removed]",
      "text/latex": [
       "$\\displaystyle \\left\\{\\left( 10, \\  34\\right)\\right\\}$"
      ],
      "text/plain": [
       "{(10, 34)}"
      ]
     },
     "metadata": {},
     "output_type": "display_data"
    }
   ],
   "source": [
    "# Töltsük fel az együtthatómátrixot és a konstansokból képzett vektort\n",
    "A_rendszer = sp.Matrix([[1,1],[0,L_1]])\n",
    "b_rendszer = sp.Matrix([[p*L_1+F],[F*(L_1+L_2)+p*L_1**2/L_2]])\n",
    "\n",
    "# Definiáljuk a rendszert, és megoldjuk az egyenletrendszert\n",
    "rendszer = (A_rendszer,b_rendszer)\n",
    "display(sp.linsolve(rendszer,[A_y, B_y]))\n",
    "display(sp.linsolve(rendszer,[A_y, B_y]).subs(adatok))"
   ]
  },
  {
   "attachments": {},
   "cell_type": "markdown",
   "metadata": {},
   "source": [
    "<span style=\"color:teal\"> *Megjegyzés: természetesen mi csak egy nagyon szűk szeletét tekintettük át az egyenletek megoldásának. A sympy egy lényegesen erősebb matematikai apparátussal rendelkezik, ezért képes elbánni egyenlőtlenségekkel, nemlineáris egyeneltrendszerekkel (`sp.nonlinsolve(<rendszer>,[<ismeretlenek>])`), a közönséges, sőt még a parciális differenciálegyenletek egy jelentős részével is! Ezekről bővebben: https://docs.sympy.org/latest/modules/solvers/solvers.html*</span>"
   ]
  },
  {
   "attachments": {},
   "cell_type": "markdown",
   "metadata": {},
   "source": [
    "## 2. feladat: Igénybevételi függvények ábrázolása\n",
    "Osszuk két szakaszra a rudat:\n",
    "$\\begin{equation} I.\\quad x\\in(0,L_1)\\quad\\quad\\quad II. \\quad x\\in(L_1,L_1+L_2)\\tag{2.1}\\end{equation}$\n",
    "Ekkor az igénybevételi függvények:\n",
    "$\\begin{align} V_1(x)&=A_y-px & V_2(x)&=F \\tag{2.2}\\\\  M_{h1}(x)&=-A_yx+\\dfrac{px^2}{2} & M_{h2}(x)&=F(L_1+L_2-x)\\tag{2.3}\\end{align}$\n",
    "Ábrázoljuk a fenti függvényeket és keressük meg a hajlítás szempontjából veszélyes keresztmetszetet!"
   ]
  },
  {
   "cell_type": "code",
   "execution_count": 207,
   "metadata": {},
   "outputs": [
    {
     "data": {
      "image/png": "[encoded data removed]",
      "text/plain": [
       "<Figure size 432x288 with 1 Axes>"
      ]
     },
     "metadata": {
      "needs_background": "light"
     },
     "output_type": "display_data"
    }
   ],
   "source": [
    "# Készítsük el az x és y pontjainkat!\n",
    "x1 = np.linspace(0.0,float(L_1.subs(adatok)),2)\n",
    "y1 = float(A_yn)-float(p.subs(adatok))*x1\n",
    "x2 = np.linspace(float(L_1.subs(adatok)),float((L_1+L_2).subs(adatok)),2)\n",
    "y2 = float(F.subs(adatok))+x2*0\n",
    "\n",
    "# Ezt követően plotoljuk a pontokat!\n",
    "fig, ax = plt.subplots()                            # Subplotok elkészítése\n",
    "ax.plot(x1,y1,color=\"navy\")                         # Grafikon/1\n",
    "ax.fill_between(x1,y1,color=\"navy\",alpha=0.5)       # Kitöltés/1\n",
    "ax.plot(x2,y2,color=\"navy\")                         # Grafikon/2\n",
    "ax.fill_between(x2,y2,color=\"navy\",alpha=0.5)       # Kitöltés/2\n",
    "ax.set_xlabel('hossz x[m]')                         # x-tengely felirat\n",
    "ax.set_ylabel('Nyíró igénybevétel V[N]')            # y-tengely felirat\n",
    "ax.set_title('A nyíró igénybevétel a rúd mentén')   # Cím\n",
    "ax.grid(True)                                       # Bekapcsoljuk a gridet\n",
    "\n",
    "plt.show()\n",
    "#fig.savefig(\"plot1.jpg\",dpi=300)"
   ]
  },
  {
   "cell_type": "code",
   "execution_count": 212,
   "metadata": {},
   "outputs": [
    {
     "data": {
      "image/png": "[encoded data removed]",
      "text/plain": [
       "<Figure size 432x288 with 1 Axes>"
      ]
     },
     "metadata": {
      "needs_background": "light"
     },
     "output_type": "display_data"
    }
   ],
   "source": [
    "# Készítsük el az x és y pontjainkat!\n",
    "x1 = np.linspace(0.0,float(L_1.subs(adatok)),50)\n",
    "y1 = -float(A_yn)*x1+float(p.subs(adatok))*x1**2/2\n",
    "x2 = np.linspace(float(L_1.subs(adatok)),float((L_1+L_2).subs(adatok)),50)\n",
    "y2 = float(F.subs(adatok))*(float((L_1+L_2).subs(adatok))-x2)\n",
    "\n",
    "# Ezt követően plotoljuk a pontokat!\n",
    "fig, ax = plt.subplots()                            # Subplotok elkészítése\n",
    "ax.plot(x1,y1,color=\"orange\")                       # Grafikon/1\n",
    "ax.fill_between(x1,y1,color=\"orange\",alpha=0.3)     # Kitöltés/1\n",
    "ax.plot(x2,y2,color=\"orange\")                       # Grafikon/2\n",
    "ax.fill_between(x2,y2,color=\"orange\",alpha=0.3)     # Kitöltés/2\n",
    "ax.set_xlabel('hossz x[m]')                         # x-tengely felirat\n",
    "ax.set_ylabel('Hajlítónyomatéki igénybevétel Mh[Nm]') # y-tengely felirat\n",
    "ax.set_title('A hajlítónyomatéki igénybevétel a rúd mentén')   # Cím\n",
    "ax.grid(True)                                       # Bekapcsoljuk a gridet\n",
    "\n",
    "plt.show()\n",
    "fig.savefig(\"plot2.jpg\",dpi=300)"
   ]
  },
  {
   "attachments": {},
   "cell_type": "markdown",
   "metadata": {},
   "source": [
    "## 3. feladat - A $d$ paraméter meghatározása\n",
    "Tudjuk, hogy a $d$ paraméternek az alábbi egyenletet kell kielégítenie, hogy szilárdságtanilag biztonságos legyen a szerkezet:\n",
    "$\\begin{equation}\\dfrac{25}{3}\\cdot d^2+9375\\cdot d-1406250+70312500\\cdot\\dfrac{1}{d} > 4000000\\tag{3.1}\\end{equation}$\n",
    "Viszont a valóságban nem feltétlenül szeretnénk, ha csak egy kicsivel lennénk a megadott, szilárdságtani határ felett, ezért amíg a megadott 4000000-et legalább 10%-kal nem lépjük túl, mondjuk azt, hogy csak *éppen stabil* a rendszer.\n",
    "Írjunk egy *függvényt*, amellyel eldönthetjük egy adott $d$ paraméterről, hogy megfelel-e (a függvény visszatérési értéke legyen egy `string`, amely tartalmazza az információt); és írassuk ki az alábbi értékek esetén a döntést:\n",
    "- $d=247.15\\;[\\text{mm}]$\n",
    "- $d=409.38\\;[\\text{mm}]$\n",
    "- $d=533.96\\;[\\text{mm}]$\n"
   ]
  },
  {
   "cell_type": "code",
   "execution_count": 219,
   "metadata": {},
   "outputs": [
    {
     "name": "stdout",
     "output_type": "stream",
     "text": [
      "A d = 247.15 [mm] méretre a szerekezet nem stabil.\n",
      "A d = 409.38 [mm] méretre a szerekezet még éppen stabil.\n",
      "A d = 533.96 [mm] méretre a szerekezet stabil.\n"
     ]
    }
   ],
   "source": [
    "# Definiáljunk egy függvényt, melynek bemenő paramétere a d!\n",
    "def meretezes(d):\n",
    "    # Ha a szerkezet teljesen stabil:\n",
    "    if(25/3*d**2+9375*d-1406250+70312500/d > 4000000*1.1):\n",
    "        return \"A d = \" + str(d) + \" [mm] méretre a szerekezet stabil.\"\n",
    "    # Ha a szerkezet instabil:\n",
    "    elif(25/3*d**2+9375*d-1406250+70312500/d > 4000000):\n",
    "        return \"A d = \" + str(d) + \" [mm] méretre a szerekezet még éppen stabil.\"\n",
    "    # Minden más esetben instabil\n",
    "    else:\n",
    "        return \"A d = \" + str(d) + \" [mm] méretre a szerekezet nem stabil.\"\n",
    "\n",
    "print(meretezes(247.15))\n",
    "print(meretezes(409.38))\n",
    "print(meretezes(533.96))\n"
   ]
  },
  {
   "cell_type": "markdown",
   "metadata": {},
   "source": [
    "# 3.hét / Epilógus"
   ]
  },
  {
   "cell_type": "markdown",
   "metadata": {},
   "source": [
    "### Hasznos anyagok:"
   ]
  },
  {
   "cell_type": "markdown",
   "metadata": {},
   "source": [
    "- Dokumentációk\n",
    "    - Python hivatalos dokumentációja: https://docs.python.org/3/\n",
    "    - [PEP 8](https://peps.python.org/pep-0008/) Style Guide for Python Code - Melyek a jó és rossz programozási praktikák\n",
    "    - NumPy hivatalos dokumentációja: https://numpy.org/doc/1.25/\n",
    "- Tankönyvek\n",
    "    - [Dive Into Python 3](http://diveintopython3.problemsolving.io/)\n",
    "    - [Dive into Deep Learning](https://d2l.ai/) - Interaktív tankönyv Deep Learninghez\n",
    "    - [Fluent Python: Clear, Concise, and Effective Programming by Luciano Ramalho](https://www.oreilly.com/library/view/fluent-python/9781491946237/) - Haladóbb szemléletű Python programozás\n",
    "- Útmutatók\n",
    "    - [The Official Python Tutorial](https://docs.python.org/3/tutorial/) - Self-explanatory?\n",
    "    - [Foglalt Keyword lista](https://docs.python.org/3.0/reference/lexical_analysis.html#id8) - Ezeket ne használd változónévnek!\n",
    "    - [Codecademy](https://www.codecademy.com/catalog) - Interaktív (fizetős) online tutorial\n",
    "    - [CheckIO](https://py.checkio.org/) - Tanulj Pythont játékfejlesztésen kersztül\n",
    "- Competitive Programming\n",
    "    - [Codewars](https://www.codewars.com/?language=python)\n",
    "    - [CodeForces](https://codeforces.com/)"
   ]
  },
  {
   "cell_type": "markdown",
   "metadata": {},
   "source": [
    "### Elérhetőség"
   ]
  },
  {
   "cell_type": "markdown",
   "metadata": {},
   "source": [
    "Bármilyen kérdés, kérés vagy probléma esetén keressetek minket az alábbi elérhetőségeken:\n",
    "- Monori Bence - m.bence02@outlook.hu\n",
    "- Wenesz Dominik - weneszdominik@gmail.com\n",
    "\n",
    "Illetve anonim üzenetküldésre is lehetőséget biztosítunk, ezt az alábbi linken tudjátok elérni: https://forms.gle/6VtGvhja3gq6CTT66"
   ]
  }
 ],
 "metadata": {
  "kernelspec": {
   "display_name": "Python 3",
   "language": "python",
   "name": "python3"
  },
  "language_info": {
   "codemirror_mode": {
    "name": "ipython",
    "version": 3
   },
   "file_extension": ".py",
   "mimetype": "text/x-python",
   "name": "python",
   "nbconvert_exporter": "python",
   "pygments_lexer": "ipython3",
   "version": "3.10.5"
  },
  "orig_nbformat": 4,
  "vscode": {
   "interpreter": {
    "hash": "2af2f7bd18ebe9c51d83c2c7639d4d797dd1f9b6d78f33714d13d33925b88269"
   }
  }
 },
 "nbformat": 4,
 "nbformat_minor": 2
}
