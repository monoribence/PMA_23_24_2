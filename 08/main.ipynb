{
 "cells": [
  {
   "cell_type": "markdown",
   "metadata": {},
   "source": [
    "# 8. hét / Prológus "
   ]
  },
  {
   "cell_type": "markdown",
   "metadata": {},
   "source": [
    "A mai órán a következőkről lesz szó:\n",
    "- Elméleti bevezetés (~50-60 perc)\n",
    "- Alapvető gépi tanulási algoritmusok (~25-30 perc) "
   ]
  },
  {
   "cell_type": "markdown",
   "metadata": {},
   "source": [
    "# 8.hét / I. Elméleti bevezetés a mesterséges intelligenciába"
   ]
  },
  {
   "cell_type": "markdown",
   "metadata": {},
   "source": [
    "## Bevezetés a mesterséges intelligenciába"
   ]
  },
  {
   "cell_type": "markdown",
   "metadata": {},
   "source": [
    "Maga a **meseterséges intelligencia** (MI, vagy *AI*) a 21. század legfontosabb számítástudományi ágazata. A definiálása viszont koránt sem triviális! Ennek a legfőbb oka, hogy maga az *intelligencia* egy borzalmasan nehezen megfogalmazható, és értelmezhető fogalom - viszont ennek definiálása már inkább a filozófusok és legfőképpen a jogászok feladata.\n",
    "\n",
    "A mi tárgyalásunkban sokkal célszerűbb a mesterséges intelligenciát, mint bizonyos algoritmusok, programozási problémák, paradigmák, megközelítések halmazaként definiálni! Széleskörben elfogadott, hogy például a gépi látás feladatai - amiket az előző két tanóra alkalmával sorra vettünk - a mesterséges intelligencia halmazába besorolhatóak. Más algoritmusok esetében ennél gyakran önkényesebb és kevésbé egyértelmű ennek meghatározása.\n",
    "\n",
    "Mivel a mesterséges intelligencia fogalma exponenciálisan növekedik, ezért fontos már itt kiemelni, hogy a kurzus során kizárólag a **gépi tanulás**sal, illetve azon belül is elsősorban a **neurális hálózatok**kal fogunk foglalkozni. <span style=\"color:red\">Erre többek között azért van szükség, mert a mesterséges intelligenciai algoritmusok jelentős részének vagy csak nagyon korlátozott mértékben, vagy már egyáltalán nincs is jelentősége a 2020-as években. </span> Az AI egy páratlanul dinamikusan fejlődő tudományág és a történelem során gyakran előfordult, hogy bizonyos algoritmusok kikoptak a repetoárból, mert megjelent egy-egy lényegesen jobb megoldás."
   ]
  },
  {
   "cell_type": "markdown",
   "metadata": {},
   "source": [
    "## Paradigmaváltás: Machine Learning"
   ]
  },
  {
   "cell_type": "markdown",
   "metadata": {},
   "source": [
    "Eddig minden programozási problémát úgynevezett **algoritmikus módon** közelítettünk meg. A rendszerünk bemenetét és kimenetét három építőkocka segítségével próbáltuk meg összekötni, név szerint:\n",
    "1. Utasításokkal és **függvények**kel;\n",
    "2. Feltételes **elágazások**kal, vagy *if statement*-ekkel;\n",
    "3. **Ciklusok**kal, vagy *loop*-okkal.\n",
    "\n",
    "Ezek definiálják az úgynevezett **imperatív** (1.) és **strukturált programozás** (2. és 3.) paradigmákat. Később ennek kiterjesztéseként ismerkedtünk meg az **objektum-orientált programozás** fogalmával, amely ezen három építőkocka tetejére emelt egy újabbat: az *objektum*ot. Az objektum pedig egységbe zárja - ha úgy tetszik maga alá rendeli - a másik három alapegységet. \n",
    "\n",
    "Ezzel szemben az *adattudomány*ok egy teljesen más szemlélet alapján gondolkodnak. Egy machine learning algoritmus ezzel szemben azt mondja, hogy a rendszer bemenete és közötti függvénykapcsolatot (a korábban bemutatott építőkockák helyett) maguk az adatok definiálják. A rendszer felépítésének középpontjába a **tanulás**t és **tanítás**t helyezik, amely nem más, mint a bemenet és kimenet közötti (matematikai) függvény közelítése és megkeresése.\n",
    "\n",
    "Az alapötlet az, hogy ameddig a bemenet és minden bementre adott kimenet egyértelmű, addig a kettőt egymáshoz rendelő függvények és rendszernek is egyértelműnek kell lennie. Ha pedig ez a függvénykapcsolat egyértelmű, akkor matematikai, statisztikai, valószínűségszámítási módszerekkel meg is tudjuk ezeket keresni. A tanítási folyamat előrehaladtával jellemzően javul a modellünk, viszont előfordulhat az is, hogy túltanul a modellünk. Erről a neurális hálózatok tárgyalásakor bővebben visszatérünk.\n",
    "\n",
    "A legfontosabb különbség, hogy míg az algoritmikus megközelítés során minden utasítás, elágazás és ciklus előre definiált - függetlenül attól, hogy egy megadott bemenetre helyes kimenetet ad-e avagy sem. Ezzel szemben a gépi tanulás módszerei kizárólag a bemenő adatokból építi fel magát az algoritmust, az adatbázis alapján felismer abban szabályszerűségeket, mintázatokat, (gyakran olyanokat is, amelyeket emberi programozók nehézkesen, vagy egyáltalán nem tudtak volna leírni), és ezek alapján egy közelítő modellt ad."
   ]
  },
  {
   "cell_type": "markdown",
   "metadata": {},
   "source": [
    "## Machine Learning feladatok"
   ]
  },
  {
   "cell_type": "markdown",
   "metadata": {},
   "source": [
    "A gépi tanulás által megoldani kívánt problémák közül kettőt tárgyalunk mélyebben:\n",
    "- **Klasszifikáció**: ismeretlen adatpontok besorolása különböző, jól elkülöníthető, *diszkrét* kategóriákba. Ilyen problémák megoldása során jellemzően egy matematikai függvényt keresünk, amely megfelelő módon felszabdalja az adathalmazunkat diszkrét osztályokra. Például ide tartoznak az orvosi diagnosztikai feladatok.  \n",
    "- **Regresszió**: olyan folyamat, melynek során kapcsolatot keresünk az úgynevezett független és függő változó között (mint input és output között), hogy ismeretlen adatokra jóslatokat, *predikciókat* tegyünk. Például ide sorolható az időjárás-előrelejzés.\n",
    "\n",
    "Ezen felül még a gépi tanulás problémái alá tartoznak az alábbi problémák is:\n",
    "- Klaszterezés;\n",
    "- Dimenziócsökkentés;\n",
    "- Anomáliadetektálás;\n",
    "- Generatív modellezés."
   ]
  },
  {
   "cell_type": "markdown",
   "metadata": {},
   "source": [
    "## A tanítási módok osztályozása"
   ]
  },
  {
   "cell_type": "markdown",
   "metadata": {},
   "source": [
    "Azok alapján, hogy tanítás során figyelembe vesszük-e az adatokhoz rendelt kimenetet, avagy sem két fő tanítási paradigmát különböztetünk meg:\n",
    "- **Supervised learning** (felügyelt tanítás): a modell a bemeneti adatok és a hozzájuk rendelt kimenetek (*label*-ök) alapján tanul. Ilyenkor a modell tanításának célja, hogy predikciókat tegyen ismeretlen adatokra vonatkozóan. Például ide tartozik a kép- és beszédfelismerés, orvosi diagnosztika, gépi fordítás.\n",
    "\n",
    "- **Unsupervised learning** (felügyelet nélküli tanítás): a modell számára tanítás során kizárólag a bemenet elérhető. Ebben az esetben a tantás célja, hogy az adatokban belső mintázatokat, jellegzetességeket (feature) és összefüggéseket találjon a modell. Ennek segítségével tudjuk az adatunkat csoportosítani (clustering) vagy a paramétertér dimenzióját csökkenteni (dimensionality reduction). Például ide sorolhatóak a klaszterezések. \n",
    "\n",
    "Ezen felül még a tanítási paradigmák közé tarozik az úgynevezett **Reinforcement Learning** (megerősítéses tanulás) is, amelynek lényege, hogy a betanítani kívánt ágens egy megadott környezetben folyamatosan döntéseket hoz, hogy egy úgynevezett *reward function*, (jutalmazási függvény) alapján maximalizálja a teljesítményét. Az ágens folyamatosan tanul a korábbi döntéesiből, és a büntető, illetve jutalmazó visszajelzések alapján halad a tanítás. Ezen paradigmát gyakran alkalmazzák robotikában vagy autonóm járművek esetén."
   ]
  },
  {
   "cell_type": "markdown",
   "metadata": {},
   "source": [
    "## Machine Learning feladatok megoldása"
   ]
  },
  {
   "cell_type": "markdown",
   "metadata": {},
   "source": [
    "Jellemzően a gépi tanulás feladatai az alábbi lépésekből épülnek fel:\n",
    "1. **Adatgyűjtés**, mérés:<span style=\"color:red\"> Az adattudományok nem fognak működni adatok nélkül!</span> Fontos, hogy a mérések elvégzése előtt tegyünk becsléseket arra vonatkozóan, hogy mennyire sok adatra van szükségünk és mekkora paramétertérrel akarunk dolgozni! Minél több paramétert mérünk, annál több adatra van szükségünk! (A paramétertér dimenziójával exponenciálisan növekszik a szükséges adattér \"térfogata\".)\n",
    "\n",
    "2. **Adatfeltérképezés**: alapvető - statisztikai eszközökkel történő - megismerkedés az adatbázisunkkal. Például ábrázoljuk az egyes attribútumok eloszlását, szórását, vagy kirajzoljuk a térbeli és időbeli folyamatokat.\n",
    "\n",
    "3. ! **Adatok előkészítése**, data preprocessing: az adathalmaz előkészítése a modellek betanításának megfelelően. Ez maga a \"kreatív agya\" az adattudományoknak, amikor a nyers adatbázisból kiszűrjük a számunkra lényeges részeket. Az adat minőségi paramétereitől függően teljesen eltérő eszközöket igényel: például egy képet gyakran fekete-fehérre átállítunk, átméretezünk, megkeressük és kiemeljük rajta az éleket, hogy kizárólag a lényeges információtartalommal rendelkező adattal dolgozzon az algoritmusunk. Minél ügyesebben tudjuk elvégezni az adathalmaz előkészítését, annál több nehézségtől mentjük meg magunkat meg a tanítás során!\n",
    "\n",
    "4. **Modellválasztás**: a tanító modell meghatározása. (*Megjegyzés: valójában a modellt ismernünk kell már a preprocessing előtt, elvégre a válaszott modellre fogjuk optimalizálni a nyers adathalmazt!*) Ez mindig azzal kezdődik, hogy definiáljuk a problémát (például klasszifikációt, vagy regressziót akarunk-e csinálni) és ennek megfelelően keresünk a szakirodalomban megfelelő megoldásokat. Ezek alapján összeállítjuk a modellünket.\n",
    "\n",
    "5. **Modell illesztés**, tanítás: a választott modell betanítása.\n",
    "\n",
    "6. **Kiértékelés**: a tanító folyamat kiértékelése megadott teljesítménymetrikák (például *precision*, *recall*, vagy *accuracy*) alapján. Érdemes ezek változását is ábrázolni a tanítás során.\n",
    "\n",
    "7. **Modell paramétereinek finomhangolása**: az előfeldolgozás, vagy a választott modellünk módosítása a teljesítménymetrikák szerint; illetve a tanítás során fellépő rendellenességek és anomáliák feltérképezése. Gyakran előfordul, hogy ugyan működik is a modellünk, de esetleg nem elég pontos, nem elég megbízható, nem tud eléggé általánosítani, túltanult. Ilyenkor az első négy lépésen visszafelé érdemes elkezdeni végighaladni és onnan újrakezdve optimalizálni a modellt. \n",
    "\n",
    "8. **Alkalmazás**: az előre meghatározott célnak megfelelő modell telepítése."
   ]
  },
  {
   "cell_type": "markdown",
   "metadata": {},
   "source": [
    "## 8. hét / II. Alapvető ML algoritmusok"
   ]
  },
  {
   "cell_type": "markdown",
   "metadata": {},
   "source": [
    "### Lineáris regresszió\n",
    "\n",
    "A lineáris regresszió egyike a *supervised* tanulási algoritmusoknak, amellyel regressziós problémákat lehet megoldani. Ezen legegyszerűbb modell egy $\\mathbf{y} = \\mathbf{A}\\mathbf{x}$ lineáris egyenes segítségével közelíti az adathalmazt, ahol:\n",
    "- $\\mathbf{x}$ *a független változó*: amely alapján szeretnénk predikciókat tenni (INPUT);\n",
    "- $\\mathbf{y}$ *a függő változó*: amelynek az értékére szeretnénk predikciókat tenni (OUTPUT);\n",
    "- $\\mathbf{A}$ *a modell*.\n",
    "\n",
    "**Példa**: Gépelemek ZH\n",
    "\n",
    "A megadott eredmények alapján próbáljuk megjósolni, hogy ha többet tanultunk volna, akkor vajon megúszhattuk volna, avagy sem a pót ZH-t?"
   ]
  },
  {
   "cell_type": "code",
   "execution_count": null,
   "metadata": {},
   "outputs": [],
   "source": [
    "%pip install scikit-learn"
   ]
  },
  {
   "cell_type": "code",
   "execution_count": null,
   "metadata": {},
   "outputs": [],
   "source": [
    "# Szükséges könyvtárak\n",
    "import numpy as np\n",
    "import matplotlib.pyplot as plt\n",
    "from sklearn.linear_model import LinearRegression\n",
    "\n",
    "# Adathalmaz: tanulási idő és osztályzatok kapcsolata\n",
    "study_hours = np.array([1, 2, 3, 4, 5, 6, 7, 8, 9, 10]).reshape(-1, 1)\n",
    "exam_scores = np.array([30, 40, 50, 55, 65, 70, 75, 85, 90, 95])\n",
    "\n",
    "# Modellválasztás\n",
    "\n",
    "\n",
    "# Modell illesztése\n",
    "\n",
    "\n",
    "# Kiértékelés\n",
    "new_hours =\n",
    "predicted_scores = \n",
    "\n",
    "# Plotolás\n",
    "plt.scatter(study_hours, exam_scores, label='Tanító adat')\n",
    "plt.plot(new_hours, predicted_scores, color='red', linestyle='--', label='Regressziós egyenes')\n",
    "plt.xlabel('Diák pörgetésével eltöltött idő [h]')\n",
    "plt.ylabel('Gépelemek ZH megfejelése [%]')\n",
    "plt.grid()\n",
    "plt.legend()\n",
    "plt.show()"
   ]
  },
  {
   "cell_type": "markdown",
   "metadata": {},
   "source": [
    "### Klaszterezések"
   ]
  },
  {
   "cell_type": "code",
   "execution_count": null,
   "metadata": {},
   "outputs": [],
   "source": [
    "import time\n",
    "import warnings\n",
    "from itertools import cycle, islice\n",
    "\n",
    "import matplotlib.pyplot as plt\n",
    "import numpy as np\n",
    "\n",
    "from sklearn import cluster, datasets, mixture\n",
    "from sklearn.preprocessing import StandardScaler\n",
    "\n",
    "# Adathalmazok\n",
    "n_samples = \n",
    "seed = \n",
    "\n",
    "noisy_circles = \n",
    "noisy_moons = \n",
    "blobs = \n",
    "no_structure =\n",
    "\n",
    "# Klaszterezés paraméterei\n",
    "plt.figure(figsize=(21, 13))\n",
    "plt.subplots_adjust(\n",
    "    left=0.02, right=0.98, bottom=0.001, top=0.95, wspace=0.05, hspace=0.01\n",
    ")\n",
    "\n",
    "plot_num = 1\n",
    "\n",
    "default_base = {\n",
    "    \"quantile\": 0.3,\n",
    "    \"eps\": 0.3,\n",
    "    \"damping\": 0.9,\n",
    "    \"preference\": -200,\n",
    "    \"n_neighbors\": 3,\n",
    "    \"n_clusters\": 3,\n",
    "    \"min_samples\": 7,\n",
    "    \"xi\": 0.05,\n",
    "    \"min_cluster_size\": 0.1,\n",
    "    \"allow_single_cluster\": True,\n",
    "    \"random_state\": 42,\n",
    "}\n",
    "\n",
    "datasets = [\n",
    "    (\n",
    "        noisy_circles,\n",
    "        {\n",
    "            \"damping\": 0.77,\n",
    "            \"preference\": -240,\n",
    "            \"quantile\": 0.2,\n",
    "            \"n_clusters\": 2,\n",
    "            \"min_samples\": 7,\n",
    "            \"xi\": 0.08,\n",
    "        },\n",
    "    ),\n",
    "    (\n",
    "        noisy_moons,\n",
    "        {\n",
    "            \"damping\": 0.75,\n",
    "            \"preference\": -220,\n",
    "            \"n_clusters\": 2,\n",
    "            \"min_samples\": 7,\n",
    "            \"xi\": 0.1,\n",
    "        },\n",
    "    ),\n",
    "    (blobs, {\"min_samples\": 7, \"xi\": 0.1, \"min_cluster_size\": 0.2}),\n",
    "    (no_structure, {}),\n",
    "]\n",
    "\n",
    "for i_dataset, (dataset, algo_params) in enumerate(datasets):\n",
    "    # Adathalmaz betöltése\n",
    "\n",
    "    # Előkészítés\n",
    "\n",
    "    # Modellválasztás\n",
    "\n",
    "    # Kiértékelés\n",
    "    for name, algorithm in clustering_algorithms:\n",
    "        t0 = time.time()\n",
    "\n",
    "        # catch warnings related to kneighbors_graph\n",
    "        with warnings.catch_warnings():\n",
    "            warnings.filterwarnings(\n",
    "                \"ignore\",\n",
    "                message=\"the number of connected components of the \"\n",
    "                + \"connectivity matrix is [0-9]{1,2}\"\n",
    "                + \" > 1. Completing it to avoid stopping the tree early.\",\n",
    "                category=UserWarning,\n",
    "            )\n",
    "            warnings.filterwarnings(\n",
    "                \"ignore\",\n",
    "                message=\"Graph is not fully connected, spectral embedding\"\n",
    "                + \" may not work as expected.\",\n",
    "                category=UserWarning,\n",
    "            )\n",
    "            algorithm.fit(X)\n",
    "\n",
    "        t1 = time.time()\n",
    "\n",
    "        # Predikciók\n",
    "        if hasattr(algorithm, \"labels_\"):\n",
    "            y_pred = algorithm.labels_.astype(int)\n",
    "        else:\n",
    "            y_pred = algorithm.predict(X)\n",
    "\n",
    "        plt.subplot(len(datasets), len(clustering_algorithms), plot_num)\n",
    "        if i_dataset == 0:\n",
    "            plt.title(name, size=18)\n",
    "\n",
    "        colors = np.array(\n",
    "            list(\n",
    "                islice(\n",
    "                    cycle(\n",
    "                        [\n",
    "                            \"#377eb8\",\n",
    "                            \"#ff7f00\",\n",
    "                            \"#4daf4a\",\n",
    "                            \"#f781bf\",\n",
    "                            \"#a65628\",\n",
    "                            \"#984ea3\",\n",
    "                            \"#999999\",\n",
    "                            \"#e41a1c\",\n",
    "                            \"#dede00\",\n",
    "                        ]\n",
    "                    ),\n",
    "                    int(max(y_pred) + 1),\n",
    "                )\n",
    "            )\n",
    "        )\n",
    "        # add black color for outliers (if any)\n",
    "        colors = np.append(colors, [\"#000000\"])\n",
    "        plt.scatter(X[:, 0], X[:, 1], s=10, color=colors[y_pred])\n",
    "\n",
    "        plt.xlim(-2.5, 2.5)\n",
    "        plt.ylim(-2.5, 2.5)\n",
    "        plt.xticks(())\n",
    "        plt.yticks(())\n",
    "        plt.text(\n",
    "            0.99,\n",
    "            0.01,\n",
    "            (\"%.2fs\" % (t1 - t0)).lstrip(\"0\"),\n",
    "            transform=plt.gca().transAxes,\n",
    "            size=15,\n",
    "            horizontalalignment=\"right\",\n",
    "        )\n",
    "        plot_num += 1\n",
    "\n",
    "plt.show()"
   ]
  },
  {
   "cell_type": "markdown",
   "metadata": {},
   "source": [
    "# 8. hét / Epilógus"
   ]
  },
  {
   "cell_type": "markdown",
   "metadata": {},
   "source": [
    "### Hasznos anyagok:"
   ]
  },
  {
   "cell_type": "markdown",
   "metadata": {},
   "source": [
    "- Dokumentációk\n",
    "    - Python hivatalos dokumentációja: https://docs.python.org/3/\n",
    "    - [PEP 8](https://peps.python.org/pep-0008/) Style Guide for Python Code - Melyek a jó és rossz programozási praktikák\n",
    "    - NumPy hivatalos dokumentációja: https://numpy.org/doc/1.25/\n",
    "- Tankönyvek\n",
    "    - [Dive Into Python 3](http://diveintopython3.problemsolving.io/)\n",
    "    - [Dive into Deep Learning](https://d2l.ai/) - Interaktív tankönyv Deep Learninghez\n",
    "    - [Fluent Python: Clear, Concise, and Effective Programming by Luciano Ramalho](https://www.oreilly.com/library/view/fluent-python/9781491946237/) - Haladóbb szemléletű Python programozás\n",
    "- Útmutatók\n",
    "    - [The Official Python Tutorial](https://docs.python.org/3/tutorial/) - Self-explanatory?\n",
    "    - [Foglalt Keyword lista](https://docs.python.org/3.0/reference/lexical_analysis.html#id8) - Ezeket ne használd változónévnek!\n",
    "    - [Codecademy](https://www.codecademy.com/catalog) - Interaktív (fizetős) online tutorial\n",
    "    - [CheckIO](https://py.checkio.org/) - Tanulj Pythont játékfejlesztésen kersztül\n",
    "- Competitive Programming\n",
    "    - [Codewars](https://www.codewars.com/?language=python)\n",
    "    - [CodeForces](https://codeforces.com/)"
   ]
  },
  {
   "cell_type": "markdown",
   "metadata": {},
   "source": [
    "### Elérhetőség"
   ]
  },
  {
   "cell_type": "markdown",
   "metadata": {},
   "source": [
    "Bármilyen kérdés, kérés vagy probléma esetén keressetek minket az alábbi elérhetőségeken:\n",
    "- Monori Bence - m.bence02@outlook.hu\n",
    "- Wenesz Dominik - weneszdominik@gmail.com\n",
    "\n",
    "Illetve anonim üzenetküldésre is lehetőséget biztosítunk, ezt az alábbi linken tudjátok elérni: https://forms.gle/6VtGvhja3gq6CTT66"
   ]
  }
 ],
 "metadata": {
  "kernelspec": {
   "display_name": "base",
   "language": "python",
   "name": "python3"
  },
  "language_info": {
   "codemirror_mode": {
    "name": "ipython",
    "version": 3
   },
   "file_extension": ".py",
   "mimetype": "text/x-python",
   "name": "python",
   "nbconvert_exporter": "python",
   "pygments_lexer": "ipython3",
   "version": "3.10.9"
  }
 },
 "nbformat": 4,
 "nbformat_minor": 2
}
