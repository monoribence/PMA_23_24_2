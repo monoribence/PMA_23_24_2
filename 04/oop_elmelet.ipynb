{
 "cells": [
  {
   "cell_type": "markdown",
   "metadata": {},
   "source": [
    "# Objektumorientált Programozás (OOP) - Pythonban "
   ]
  },
  {
   "cell_type": "markdown",
   "metadata": {},
   "source": [
    "- Programozási paradigmák: A C kódban alapvetően két fő paradigma van: az **imperatív** és a **struktúrált** programozás. A kettő együtt egy olyan programozási nyelvet definiál, ami azt mondja, hogy egy C kóddal eljuthatunk az INPUT-ból az OUTPUT-ba az alábbi három \"építőkockából\": **utasítások** (statements), **elágazások** (if statements), **ciklusok** (loops).\n",
    "- Def (OOP).: Az egyes adattagokat és hozzájuk tartozó metódusokat (korábban \"függvények\"), hasonló vagy azonos tulajdonságaik alapján osztályokba csoportosíthatjuk.\n"
   ]
  },
  {
   "cell_type": "markdown",
   "metadata": {},
   "source": [
    "## Miért használjuk?\n",
    "- Újrafelhasználhatóság\n",
    "- Érthetőbb, könnyebb szerkezet\n",
    "- Bővíthetőség "
   ]
  },
  {
   "cell_type": "markdown",
   "metadata": {},
   "source": [
    "## Alapelvek\n",
    "- **Egységbe zárás** (encapsulation): Az objektum magában tarthatja belső állapotát, ami csak akkor érhető el a  külvilág számára, ha erre külön lehetőséget adunk. Ez alapján megkülönböztetünk privát és publikus adattagokat.\n",
    "- **Öröklés** (inheritance): Az öröklés során létrehozhatjuk a már létező osztályok speciális alosztályait. Az egyes alosztályok rendelkezhetnek a szülőosztályok tulajdonságaival, így például azok adattagjaival, metódusaival és egyéb attribútumaival.\n",
    "- **Polimorfizmus** (polymorphism): Ugyanolyan nevű utasításra a különböző osztályok, különböző cselekvést végezhetnek \n",
    "- **Absztrakció** (abstraction): Egy adott objektum egy adott cselekvésért felelős, és minden különböző célra van lehetőség külön példányt létrehozni."
   ]
  },
  {
   "cell_type": "markdown",
   "metadata": {},
   "source": [
    "## Megvalósítása Pythonban:"
   ]
  },
  {
   "cell_type": "markdown",
   "metadata": {},
   "source": [
    "1. ***Osztályok definiálása, konstruktor létrehozása:***\n",
    "\n",
    " - Az osztályaink Pythonban a `class` kulcsszóval hozhatóak létre a függvény definiáláshoz hasonlóan.\n",
    " - Az `__init__(self, egyébVáltozóink)` metódust használjuk konstruktor létrehozására."
   ]
  },
  {
   "cell_type": "code",
   "execution_count": 5,
   "metadata": {},
   "outputs": [],
   "source": [
    "class myClass():\n",
    "  def __init__(self, valami=0):\n",
    "    self.tulajdonsagPublic = valami #ez egy publikus valtozo\n",
    "    self.__tulajdonsagPrivate = valami #ez egy privat valtozo"
   ]
  },
  {
   "cell_type": "markdown",
   "metadata": {},
   "source": [
    "2. ***Példányosítás:***\n",
    "- Az osztályokat az osztály nevét függvényként használva példányosíthatjuk. (\"Hozhatunk létre egy ilyen típusú változót\")\n",
    "- Ezek publikus adattagjait a \".\" operátorral érhetjük el."
   ]
  },
  {
   "cell_type": "code",
   "execution_count": null,
   "metadata": {},
   "outputs": [],
   "source": [
    "myInstance = myClass(\"tulajdonság\")\n",
    "\n",
    "print(myInstance.tulajdonsagPublic)"
   ]
  },
  {
   "cell_type": "markdown",
   "metadata": {},
   "source": [
    "- A privát változókat nem érhetjük el kivülről"
   ]
  },
  {
   "cell_type": "code",
   "execution_count": null,
   "metadata": {},
   "outputs": [],
   "source": [
    "print(myInstance.tulajdonsagPrivate)"
   ]
  },
  {
   "cell_type": "markdown",
   "metadata": {},
   "source": [
    "- Meghívhatjuk a konstruktort üresen is, ekkor a megadott kezdeti érték lesz az értéke a változóinknak az osztályban"
   ]
  },
  {
   "cell_type": "code",
   "execution_count": null,
   "metadata": {},
   "outputs": [],
   "source": [
    "myInstance2 = myClass()\n",
    "\n",
    "print(myInstance.tulajdonsagPublic)"
   ]
  },
  {
   "cell_type": "markdown",
   "metadata": {},
   "source": [
    "3. ***Saját metódus létrehozása:***\n",
    "\n",
    "- Az osztályainkhoz létrehozhatunk saját metódusokat is az alábbi formátumban: </br>\n",
    "`def myMethod(metódusBemenetiVáltozója):`"
   ]
  },
  {
   "cell_type": "code",
   "execution_count": 5,
   "metadata": {},
   "outputs": [],
   "source": [
    "class myClass():\n",
    "  def __init__(self, valami=0):\n",
    "    self.data = valami\n",
    "  def metodus(self):\n",
    "    print('Tárolt adat típusa: ', type(self.data),\n",
    "          '\\nTárolt adat: ', self.data)"
   ]
  },
  {
   "cell_type": "code",
   "execution_count": null,
   "metadata": {},
   "outputs": [],
   "source": [
    "myInstance = myClass('hello')\n",
    "myInstance_2 = myClass()\n",
    "\n",
    "myInstance.metodus()\n",
    "myInstance_2.metodus()\n",
    "print(type(myInstance))"
   ]
  },
  {
   "cell_type": "markdown",
   "metadata": {},
   "source": [
    "- Létrehozhatunk metódusból is privátOt az alábbi módon:</br>\n",
    "`def __myMethod(metódusBemenetiVáltozója):`"
   ]
  },
  {
   "cell_type": "code",
   "execution_count": 14,
   "metadata": {},
   "outputs": [],
   "source": [
    "class myClass():\n",
    "    def __init__(self, valami=0):\n",
    "        self.data = valami\n",
    "    def __metodus_private(self): #ez most egy privát metódus\n",
    "        print('Tárolt adat típusa: ', type(self.data),\n",
    "        '\\nTárolt adat: ', self.data)\n",
    "\n",
    "\n"
   ]
  },
  {
   "cell_type": "code",
   "execution_count": null,
   "metadata": {},
   "outputs": [],
   "source": [
    "myInstance = myClass('hello')\n",
    "myInstance_2 = myClass()\n",
    "\n",
    "myInstance.__metodus_private()\n",
    "myInstance_2.__metodus_private()\n",
    "print(type(myInstance))"
   ]
  },
  {
   "cell_type": "markdown",
   "metadata": {},
   "source": [
    "- A privát metódusokhoz csak az osztály elemei férnek hozzá."
   ]
  },
  {
   "cell_type": "code",
   "execution_count": 17,
   "metadata": {},
   "outputs": [],
   "source": [
    "class myClass():\n",
    "    def __init__(self, valami=0):\n",
    "        self.data = valami\n",
    "    def __metodus_private(self): #ez most egy privát metódus\n",
    "        print('Tárolt adat típusa: ', type(self.data),\n",
    "        '\\nTárolt adat: ', self.data)\n",
    "    def metodus_public(self):\n",
    "        self.__metodus_private()"
   ]
  },
  {
   "cell_type": "code",
   "execution_count": null,
   "metadata": {},
   "outputs": [],
   "source": [
    "myInstance = myClass('hello')\n",
    "myInstance_2 = myClass()\n",
    "\n",
    "myInstance.metodus_public()\n",
    "myInstance_2.metodus_public() \n",
    "print(type(myInstance))"
   ]
  },
  {
   "cell_type": "markdown",
   "metadata": {},
   "source": [
    "3. ***Operátor túlterhelés létrehozása:***\n",
    "- A saját osztályunkban lehetőségünk van, a műveleti jelek újradefiniálására is.</br>\n",
    "Ezt az adott műveletekre egyedi metódusokkal, úgynevezett \"magic method\"-okkal tehetjük meg.</br>\n",
    "Az alapműveletek varázs metódusai a következők:</br>\n",
    "`def __iadd__(metódusBemenetiVáltozója):` - összeadás</br>\n",
    "`def __isub__(metódusBemenetiVáltozója):` - kivonás</br>\n",
    "`def __imul__(metódusBemenetiVáltozója):` - szorzás</br>\n",
    "`def __idiv__(metódusBemenetiVáltozója):` - osztás</br>\n",
    "\n",
    "- Lehetőségünk van még ilyen módón az alapértelmezett függvények túlterhelésére is (az órai példában `__repr__` kulcsszó segítségével fogjuk a kiiratáshoz megfelelő túlterhelést megtenni).</br>\n",
    "[Ezeknek a teljes listája a linken található.](https://www.geeksforgeeks.org/operator-overloading-in-python/)"
   ]
  },
  {
   "cell_type": "code",
   "execution_count": null,
   "metadata": {},
   "outputs": [],
   "source": [
    "class Vector:\n",
    "    def __init__(self, x, y):\n",
    "        self.x = x\n",
    "        self.y = y\n",
    "\n",
    "    def __add__(self, other):\n",
    "        if isinstance(other, Vector):\n",
    "            return Vector(self.x + other.x, self.y + other.y)\n",
    "        else:\n",
    "            raise TypeError(\"Unsupported operand type(s) for +: '{}' and '{}'\".format(\n",
    "                type(self).__name__, type(other).__name__))\n",
    "\n",
    "    def __repr__(self):\n",
    "        return \"Vector({}, {})\".format(self.x, self.y)\n",
    "\n",
    "v1 = Vector(1, 2)\n",
    "v2 = Vector(3, 4)\n",
    "v3 = v1 + v2\n",
    "print(v3)"
   ]
  },
  {
   "cell_type": "markdown",
   "metadata": {},
   "source": [
    "4. Öröklés\n",
    "- Lehetőségünk van egy hierarchia kialakítására az osztályaink között. Ilyenkor a szülő osztály metódusait és változóit az utód osztály is megkapja.</br>\n",
    "- Az ősosztály legyen a következő:"
   ]
  },
  {
   "cell_type": "code",
   "execution_count": 8,
   "metadata": {},
   "outputs": [],
   "source": [
    "class Sikelem():\n",
    "    def __init__(self, x, y):\n",
    "        self.x = x\n",
    "        self.y = y\n",
    "        self.kozeppont = (self.x, self.y)\n",
    "\n",
    "    def terulet(self):\n",
    "        return 0\n",
    "    def kozeppontFunction(self):\n",
    "        return self.x, self.y"
   ]
  },
  {
   "cell_type": "markdown",
   "metadata": {},
   "source": [
    "- Készítsük el az örökös osztályt:"
   ]
  },
  {
   "cell_type": "code",
   "execution_count": 9,
   "metadata": {},
   "outputs": [],
   "source": [
    "class Teglalap(Sikelem): #öröklés\n",
    "    tipus = 'Téglalap'\n",
    "\n",
    "    def __init__(self, x = 0, y = 0, w = 0, h = 0):\n",
    "        super().__init__(x,y) # lehetne Sikelem.__init__(self,x,y) is\n",
    "        self.w = w\n",
    "        self.h = h\n",
    "    def terulet(self): # overload\n",
    "        return self.w * self.h\n",
    "    def print_data(self):\n",
    "        print('Téglalap adatok:\\nx0: ',self.x,\n",
    "            '\\ny0: ',self.y,\n",
    "            '\\nSzélesség: ', self.w,\n",
    "            '\\nMagasság: ',self.h,\n",
    "            '\\nTerület: ', self.terulet())"
   ]
  },
  {
   "cell_type": "markdown",
   "metadata": {},
   "source": [
    "- Példányosítsuk:"
   ]
  },
  {
   "cell_type": "code",
   "execution_count": null,
   "metadata": {},
   "outputs": [],
   "source": [
    "myTeglalap = Teglalap(1,2,10,20)\n",
    "myTeglalap.print_data()\n",
    "print(myTeglalap.tipus)"
   ]
  },
  {
   "cell_type": "markdown",
   "metadata": {},
   "source": [
    "5. ***Polimorfizmus***\n",
    "- Az örökös osztályainkban lehetőségünk van az ősosztály metódusainak felülírására (Overridera).\n",
    "- ***Override***: Újradefiniálás; egy függvényt úgy írunk újra, hogy nem csak változó típusban, hanem akár változók számában is eltérhet az eredetitől."
   ]
  },
  {
   "cell_type": "code",
   "execution_count": 11,
   "metadata": {},
   "outputs": [],
   "source": [
    "class Allat:\n",
    "    def __init__(self, nev):\n",
    "        self.nev = nev\n",
    "\n",
    "    def beszel(self):\n",
    "        pass #erre a metodusra overridokat fogunk írni\n",
    "\n",
    "\n",
    "class Kutya(Allat):\n",
    "    def beszel(self):\n",
    "        return f\"{self.nev} ugat!\"\n",
    "\n",
    "\n",
    "class Macska(Allat):\n",
    "    def beszel(self):\n",
    "        return f\"{self.nev} nyavog!\"\n",
    "\n",
    "\n",
    "class Kacsa(Allat):\n",
    "    def beszel(self):\n",
    "        return f\"{self.nev} kvakog!\"\n",
    "\n",
    "\n"
   ]
  },
  {
   "cell_type": "markdown",
   "metadata": {},
   "source": [
    "- Hozzuk létre az állatainkat *(példányosísunk)*!"
   ]
  },
  {
   "cell_type": "code",
   "execution_count": 12,
   "metadata": {},
   "outputs": [],
   "source": [
    "kutya= Kutya(\"Bloki\")\n",
    "macska = Macska(\"Nyuszi\")\n",
    "kacsa = Kacsa(\"Donald\")"
   ]
  },
  {
   "cell_type": "markdown",
   "metadata": {},
   "source": [
    "- Hajtsuk végre a különböző osztályok metódusait."
   ]
  },
  {
   "cell_type": "code",
   "execution_count": null,
   "metadata": {},
   "outputs": [],
   "source": [
    "print(kutya.beszel())  \n",
    "print(macska.beszel()) \n",
    "print(kacsa.beszel())  "
   ]
  }
 ],
 "metadata": {
  "kernelspec": {
   "display_name": "base",
   "language": "python",
   "name": "python3"
  },
  "language_info": {
   "codemirror_mode": {
    "name": "ipython",
    "version": 3
   },
   "file_extension": ".py",
   "mimetype": "text/x-python",
   "name": "python",
   "nbconvert_exporter": "python",
   "pygments_lexer": "ipython3",
   "version": "3.10.9"
  }
 },
 "nbformat": 4,
 "nbformat_minor": 2
}
