{
 "cells": [
  {
   "cell_type": "markdown",
   "metadata": {},
   "source": [
    "# 1. hét / Prológus\n"
   ]
  },
  {
   "cell_type": "code",
   "execution_count": null,
   "metadata": {},
   "outputs": [],
   "source": [
    "import sys\n",
    "print(sys.version)"
   ]
  },
  {
   "cell_type": "markdown",
   "metadata": {},
   "source": [
    "A mai órán a következőkről lesz szó:\n",
    "- Rövid köszöntő, a filozófiánk (~10-15 perc)\n",
    "- Bevezetés az algoritmuselméletbe (~30 perc)\n",
    "- Aritmetikai műveletek, operátorok (~30 perc)\n",
    "- Tömbműveletek (~15 perc)"
   ]
  },
  {
   "cell_type": "markdown",
   "metadata": {},
   "source": [
    "# 1. hét / I. Köszöntés"
   ]
  },
  {
   "cell_type": "markdown",
   "metadata": {},
   "source": [
    "Kedves Hallgató!\n",
    "\n",
    "Mindenekelőtt nagyon sok szeretettel köszöntelek minden kollégám nevében, akikkel ezt a kurzust tartjuk. Nagyon nagyra értékeljük, hogy érdeklődsz a számítástudományok irányt, és megtiszteltél minket azzal, hogy feltehetően az első sor kódjaidat, és ezzel együtt első komolyabb Python-projekteted velünk együtt fogod elkészíteni! Emellett azt is reméljük, hogy lesz egy csepp szabad perced, hogy az elkövetkezendő bevezetőt elolvasd a kurzusról. Ez egy általános képet fog arról adni, hogy mire is számíts a félév során, milyen lesz a kurzus struktúrája, és mi az amit remélünk, hogy később elteszel majd belőle!"
   ]
  },
  {
   "cell_type": "markdown",
   "metadata": {},
   "source": [
    "### Programozni megtanulni korántsem egyszerű, de azért vagyunk, hogy segítsünk!"
   ]
  },
  {
   "cell_type": "markdown",
   "metadata": {},
   "source": [
    "Először is elevenítsük fel a tárgy nevét: *Python mérnöki alkalmazásai*. Amit itt elsőkézben látni kell az nem más, hogy a félév végére szeretnénk megmutatni nektek számtalan érdekes - a mérnöki életben előforduló - példát, melyek megoldásához elengedhetetlen valamilyen programozói megoldás. Lehet szó egy egyszerű statika feladatmegoldó programról, vagy egy szenzoradatokat feldolgozó egységről, de akár beszélhetünk mozgásdetektálásról, képszegmentációról, emberi arcfelismerésről a gépi tanulás /*machine learning*/ forradalmi erejéig akármiről! *(És megjegyzem: minderről lesz is szó a félév során!)*. Tehát a **programozást, mint a mérnök gyakorlatban elterjedt eszközt** szeretnénk nektek bemutatni és nem azon lesz a hangsúly, hogy a számítástudomány és algoritmuselmélet, mint matematikai tudományágak mélyére evezzünk. A fő hangsúlyt a **gyakorlati problémamegoldásra** és az **általános imeretbővítésre** fektetjük.\n",
    "\n",
    "A kritikus gondolkodás kialakításához elengedhetetlen, hogy minél többet kérdezzetek és minél intenzívebben keressétek a **miért**eket! Ezét mindenkit buzdítok arra, hogy **kérdezzen sokat** és még annál is többet! Akkor is ha akár jelentéktelennek, akár nagyon földtől elrugaszkodottnak tűnik a kérdés! Elvégre rossz kérdés nincs egy sem, legfeljebb nem tudunk válaszolni, *ha megkérdezitek a P=NP probléma megoldását*.\n",
    "\n",
    "Természetesen egy - a legtöbbetek számára - teljesen idegen vízre evezni kihívásokkal teli, viszont valamennyien azért gondozzuk a tárgyat, hogy segítsük és támogassuk a fejlődéseteket! Bármilyen kérdés, probléma esetén nyugodtan keressetek meg minket privát elérhetőségeinken, közérdekű témában nyugodtan használjátok a tárgy hivatalos Teams csatornáját! A kurzus nagyjából úgy van összeállítva, hogy átlagosan **legfeljebb heti 4-5 órát** (ebbe beleértve az órai jelenlétet) **vegyen igénybe a kurzus teljesítése!** **Ha ennél lényegesen több időre van szükségetek, akkor ezt mindenképpen jelezzétek nekünk!**"
   ]
  },
  {
   "cell_type": "markdown",
   "metadata": {},
   "source": [
    "### Bátorítunk titeket az önálló tanulásra és szorgalmazzuk, hogy utánanézzetek mindannak ami érdekel!"
   ]
  },
  {
   "cell_type": "markdown",
   "metadata": {},
   "source": [
    "<p align=\"center\">\n",
    "  <img src=\"fig1.png\" />\n",
    "</p>\n",
    "\n",
    "Az önálló utánanézés kimondottan sok forrásból eredhet, végsősoron az mindennek a célja, hogy *tanulj, fejlődj, láss minél több érdekeset* és így **ismételd át a főbb koncepciókat**, mialatt **gyakorolsz, gyakorolsz és még többet gyakorolsz**. A kutatásod sok különböző formában végezheted:\n",
    "- Legegyszerűbb, ha egy hibaüzenetet, problémás kérdést (angolul) bedobsz a Google keresőnek! *Nagyon kicsi a valószínűsége annak, hogy valaha olyan problémával fogsz találkozni, amivel előtted még soha senki!* Egyébként a leggyakrabban a [Stack Overflow](https://stackoverflow.com) oldallal fogtok találkozni, egy példa: [SO - Slicing in Python](https://stackoverflow.com/questions/509211/how-slicing-in-python-works)\n",
    "\n",
    "- Az AI térhódításával együtt megjelent a mindenki által jól ismert [ChatGPT](https://openai.com/blog/chatgpt)! Kisebb kódok írására (20-30 sor + kommentek) tökéletesen alkalmas, ráadásul az összes elterjedt programozási nyelvre elérhető nem csak Pythonra!\n",
    "\n",
    "- Sajnos az utóbbi időkben egyre kevésbé elterjedt, de (különösen ritkábban használt packagek esetén) mindenképpen érdemes a *fejlesztői dokumentációkat* böngészni! Például itt elérhető a mai anyaghoz kapcsolódó [Numpy Dokumentáció](https://numpy.org/doc/). Kötelességemnek érzem, hogy kiemeljem: hosszútávon és haladói programozói gyakorlatban a dokumentációk alapos áttekintése vezet majd el gyakorlatilag minden kérdés megválaszolásához, ugyanis ezek nagyon részletes leírásokat és számtalan példakódot tartalmaznak!\n",
    "\n",
    "- Ez a legtöbb embernek újdonság varázsával hat, de az interneten teljesen igyenes hozzáférést garantálnak az oktatási anyagaikhoz a világ legrangosabb egyetemei (MIT, Caltech, Harvard...)! Akár hivatalos honlapjaikon (MIT Opencourse), vagy különböző kurzusportálokon. *Csak kezdjük el a Google keresőbe bepötyögni, hogy \"MIT Python course...\"*"
   ]
  },
  {
   "cell_type": "markdown",
   "metadata": {},
   "source": [
    "# 1. hét / II. \"Hello World\""
   ]
  },
  {
   "cell_type": "markdown",
   "metadata": {},
   "source": [
    "A bevezető szellemében kezdjük is az órát egy *nagyon fontos miérttel*: **Miért akarunk egyáltalán programozni?** Erre a kérdésre önmagábann nagyon sok válasszal lehetne szolgálni, viszont megragadom az alkalmat, hogy egy *mechatronikai megközelítéssel* élve járjam körbe a kérdést. Elevenítsük fel a *Mechatronika alapjai* tárgyon felvázolt rendszermodellt:\n",
    "<p align=\"center\">\n",
    "  <img src=\"fig2_system.png\" />\n",
    "</p>\n",
    "\n",
    "Leegyszerűsítve a rendszerek azt a funkciót töltik be, hogy egy megadott **bemenet**re egy elvárt **kimenet**tel szolgáljanak. Akár értelmezhetjük ezt úgy is, mintha a rendszer egy egyértelmű hozzárendelés, egy **függvény** lenne a bemenet és kimenet között! Azt a *folyamat*ot, vagy *szabályok véges sorozatá*t, melynek célja jellemzően egy specifikus problémaosztály megoldása, **algoritmus**nak nevezzük. Minden algoritmus felépíthető a következő 3 elemből: *utasítás*ok (function), *elágazás*ok (if-statement) és *ciklus*ok (loop). \n",
    "\n",
    "**Példa**\n",
    "Fűtésszezon van, Marika néni azt szeretné, hogy a lakásában a hőmérséklet 21 [°C]. Ezért egy hőmérő van telepítve. \n",
    "- `INPUT`: A hőmérőből származó adat: $T\\in[-273,\\infty)\\subseteq\\mathbb{R}$\n",
    "- `OUTPUT`: Menjen a fűtés, vagy sem: `true` / `false`\n",
    "- `SYSTEM`: A program egy: $T\\to\\{\\mathtt{true},\\mathtt{false}\\}$ függvény lesz, azaz minden hőmérsékletértékre *egyértelműen eldönthető*, hogy kell-e mennie a fűtésnek avagy sem. Ha a hőmérséklet kisebb, mint $21$ [°C], akkor menjen a fűtés, ha nagyobb, mint $21$ [°C], akkor ne menjen a fűtés.\n",
    "- `PROGRAM`: A hőmérő szenzor jelét rákötjük egy mikrovezérlőre. A mikrovezérlő folyamatosan figyeli a hőmérsékletet, ha `T>21` $\\to$ `false`, ha pedig `T<21` $\\to$ `true` jelet ad ki (0, vagy 1) a kazán/fűtésrendszer felé. A fűtésrendszer a `true` bement/input esetén be van kapcsolva, `false` esetén pedig ki van kapcsolva... de az már egy másik rendszer!\n",
    "\n",
    "<p align=\"center\">\n",
    "  <img src=\"fig3_system_extended.png\" />\n",
    "</p>\n",
    "\n",
    "Most írjuk meg ehhez a kódot!"
   ]
  },
  {
   "cell_type": "code",
   "execution_count": null,
   "metadata": {},
   "outputs": [],
   "source": [
    "# INPUT: T - a hőmérőből származó adat\n",
    "\n",
    "# Ha a hőmérséklet kisebb, mint 21 °C:\n",
    "\n",
    "# Egyébként minden más esetben:\n"
   ]
  },
  {
   "cell_type": "markdown",
   "metadata": {},
   "source": [
    "# 1. hét / III. Változók és aritmetikai műveletek"
   ]
  },
  {
   "cell_type": "markdown",
   "metadata": {},
   "source": [
    "Ahogy az előzőekben is láttuk *adatokat eltárolhatunk* **változók** segítségével. Minden változó az alábbiakkal rendelkezik:\n",
    "- *Név*: célszerűen *beszédes neveket* megadni! Nem valószínű, hogy a `_6dwRζpwe3_` névből kitalálja valaki, hogy ezt a változót az Allee Intersparban egyszerre maximálisan megvásárolható zsemlék számára hoztam létre. A `maxZsemle` eggyel beszédesebb! Egyébként (Pythonban!) szinte bármilyen nevet adhatunk a változóknak, tartalmazhat akár görög, vagy japán karaktereket is, gyakorlatilag tetszőleges hosszúságúak is lehetnek. Kulcsszavakat (`def`, `if`, ...) nem adhatunk meg, nem kezdődhetnek számmal, illetve bizonyos fordítók a `!` használatát sem szeretik.\n",
    "\n",
    "- *Érték* és *típus*: későbbiekben látni fogjuk de a *Python* nyelvben szinte akármit eltárolhatunk változókban: egész számokat, tizedes törteket, szöveget, de akár teljes grafikonokat, képeket, vagy komplett neurális háló modelleket is! Ennek megfelelően egy változónak lehet típusa: `int`, `float`, `double`, `string`... Ezt a Python *lazán kezeli* (kicsit precízebben a Python ún. *dynamically typed language*), egy változó deklarálásakor nem kell megadnunk a típusát. Típuskonverzióknál viszont fontos, hogy észben tartsuk a típusokat.\n",
    "\n",
    "- *Memóriaterület*: az egyes változók a *memóriában vannak eltárolva*, ezekhez úgynevezett *(memória)címek* tartoznak. A Pythonban nem is igazán, inkább C/C++ nyelvekben érdekes róluk beszélni...\n",
    "\n",
    "Ha csak lehetséges (és ésszerű), akkor minden mennyiséghez rendeljünk egy változót! Nagyban megkönnyítik a kód átírását és az átlátását!"
   ]
  },
  {
   "cell_type": "code",
   "execution_count": null,
   "metadata": {},
   "outputs": [],
   "source": []
  },
  {
   "cell_type": "markdown",
   "metadata": {},
   "source": [
    "## Aritmetikai (int, float) műveletek"
   ]
  },
  {
   "cell_type": "markdown",
   "metadata": {},
   "source": [
    "Az első és legfontosabb úgynevezett `operator`, az *értékeadás operátor*, amely nem meglepő módon a Python leggyakrabban alkalmazott operátora. Segítségével változóknak értéket adhatunk. Általános szintaktikája:`<var1> = <val>`.\n",
    "\n",
    "Fontos! Tegyük fel, hogy `a=3`. Amikor azt látjuk, hogy `a = a + 2`, akkor erre ne úgy gondoljunk, mint egy egyenlet, amit meg kell oldani `a`-ra, elvégre ennek ilyen formában semmi értelme nincs! Az előbbi kifejezés úgy fordítható le, mint *az `a` változó új értéke legyen a jelenlegi értékénél `2`-vel nagyobb szám!* Tehát az `a = a + 2` művelet után az `a`-ban eltárolt érték `5` lesz!\n",
    "\n",
    "A gyorsabb kódolásért és a félreértések elkerülése végett a programozói gyakorlatban elterjed, *összevont alakot* is gyakran használjuk:\n",
    "- `a = a + 2` $\\qquad\\rightarrow\\qquad$ `a += 2`\n",
    "- `a = a - 5` $\\qquad\\rightarrow\\qquad$ `a -= 5`\n",
    "- ..."
   ]
  },
  {
   "cell_type": "code",
   "execution_count": null,
   "metadata": {},
   "outputs": [],
   "source": [
    "# Értékadás operátor\n",
    "a = 5\n",
    "print(\"Az a változó értéke:\",a)\n",
    "print(f\"Az a változó értéke: {a}\")\n",
    "\n",
    "# Érték növelése 2-vel\n",
    "\n",
    "# Kicsit kompaktabban\n"
   ]
  },
  {
   "cell_type": "markdown",
   "metadata": {},
   "source": [
    "Tekintsük át az alapvető aritmetikai műveleteket: *összeadást, kivonást, szorzást, osztást*, illetve a *hatványozást* és a *maradékos osztást*!"
   ]
  },
  {
   "cell_type": "code",
   "execution_count": null,
   "metadata": {},
   "outputs": [],
   "source": [
    "# Hozzunk létre még egy változót!\n",
    "b = 2\n",
    "\n",
    "# Összeadás\n",
    "c = a+b\n",
    "print(\"Az a+b művelet eredménye:\",c)        # 9 + 2 = 11\n",
    "print(f\"Az a+b művelet eredménye: {c}\")\n",
    "\n",
    "# Kivonás\n",
    "c = a-b\n",
    "print(f\"Az a-b művelet eredménye: {c}\")     # 9 - 2 = 7\n",
    "\n",
    "# Szorzás\n",
    "c = a*b\n",
    "print(\"Az a*b művelet eredménye:\",c)        # 9 * 2 = 18\n",
    "\n",
    "# Osztás\n",
    "c = a/b\n",
    "print(f\"Az a/b művelet eredménye: {c}\")     # 9 / 2 = 4.5\n",
    "\n",
    "# Hatványozás\n",
    "c = a**b\n",
    "print(\"Az a^b művelet eredménye:\",c)        # 9^2 = 81\n",
    "\n",
    "# Maradékos osztás\n",
    "c = a%b\n",
    "print(f\"Az a%b művelet eredménye: {c}\")     # 9 = 4*2 + 1\n",
    "    \n",
    "# Kicsit más számokra:\n",
    "d = 5.2\n",
    "print(f\"Az a^b művelet eredménye: {d**b}\")\n",
    "print(f\"Az a^b művelet eredménye: {round(d**b,2)}\")\n"
   ]
  },
  {
   "cell_type": "markdown",
   "metadata": {},
   "source": [
    "## Összetettebb aritmetikai műveletek (Numpy bevezető)"
   ]
  },
  {
   "cell_type": "markdown",
   "metadata": {},
   "source": [
    "Láthatjuk, hogy alapvetően sok műveletet támogat az alapvető Python könyvtár is, viszont ha szeretnénk *logaritmust*, vagy *trigonometrikus függvényeket* számolni (és *szeretnénk* majd a statika házi feladatban trigonometrikus függvényekkel dolgozni), akkor bővítenünk kell az eszköztárunkat! Ezekhez a műveletekhez a `numpy` könyvtárat kell segítségül hívnunk, melyet telepíthetünk (helyi számítógépünkre) az alábbi módon:"
   ]
  },
  {
   "cell_type": "code",
   "execution_count": null,
   "metadata": {},
   "outputs": [],
   "source": [
    "%pip install numpy"
   ]
  },
  {
   "cell_type": "markdown",
   "metadata": {},
   "source": [
    "A `NumPy` egyébként egy az egyben tartalmazza a MATLAB programozási nyelv szinte összes függvényét. A MATLAB egy kiemelt (C-hez nagyon hasonló) programozási nyelv, különösen a mérnöki gyakorlatban, ugyanis nagyon széles matematikai eszköztárral rendelkezik. Viszont a MATLAB használatához komoly összegekért kell liszenszt vásárolni, ezért a `NumPy` készítői gyakorlatilag egy az egyben lemásolták az összes benne található függvényt és *ingyenesen elérhetővé tették mindenki számára*!"
   ]
  },
  {
   "cell_type": "markdown",
   "metadata": {},
   "source": [
    "A könyvtár használatához *importnálni kell* a programunkba, ezt az `import` kulcsszóval tehetjük meg. Ezt elég egyszer megtenni, általában a *file legtetején szokott szerepelni az import lista*, ahol össze van gyűjtve minden szükséges, úgynevezett *dependency*, azaz olyan csomagok, amelyek elengedhetetlenek a program futásához."
   ]
  },
  {
   "cell_type": "code",
   "execution_count": null,
   "metadata": {},
   "outputs": [],
   "source": [
    "import numpy as np      # Importáljuk a numpy könyvtárat a futtatókörnyezetünkbe"
   ]
  },
  {
   "cell_type": "markdown",
   "metadata": {},
   "source": [
    "Innentől kezdve egy sokkal bővebb matematikai eszköztár áll rendelkezésünkre! Nézzünk is meg néhány példát abszolút értékekre, egészrész függvényekre és gyökvonásra!"
   ]
  },
  {
   "cell_type": "code",
   "execution_count": null,
   "metadata": {},
   "outputs": [],
   "source": [
    "x = -6\n",
    "\n",
    "# Abszolút érték\n",
    "print(f\"Az x = {x} abszolút értéke {}\")\n",
    "\n",
    "# x = 5.5\n",
    "\n",
    "# Alsó és felső egészrész\n",
    "# print(f\"Az x = {x} alsó egészrésze {}\")\n",
    "# print(f\"Az x = {x} felső egészrésze {}\")\n",
    "\n",
    "# Gyökvonás\n",
    "# print(f\"Az x = {x} négyzetgyöke {}\")\n",
    "# print(f\"Az x = {x} négyzetgyöke {}\")"
   ]
  },
  {
   "cell_type": "markdown",
   "metadata": {},
   "source": [
    "A következőkben tekintsük át a trigonometrikus függvényeket!"
   ]
  },
  {
   "cell_type": "code",
   "execution_count": null,
   "metadata": {},
   "outputs": [],
   "source": [
    "x = np.pi/6\n",
    "\n",
    "# Trigonometrikus függvények\n",
    "print(f\"A sin(x) értéke: {}\")       # ~ 1/2\n",
    "print(f\"A cos(x) értéke: {}\")       # ~ sqrt(3)/2\n",
    "print(f\"A tan(x) értéke: {}\\n\")     # ~ sqrt(3)/3\n",
    "\n",
    "# Inverz trigonometrikus függvények\n",
    "# y = 0.5\n",
    "# print(f\"Az arcsin(y) értéke: {}\")                       # ~ pi/6 radián\n",
    "\n",
    "# Radián átváltása fokra\n",
    "# print(f\"Az arcsin(y) értéke fokban: {}\")    # pi/6 [rad] = 30 [°]"
   ]
  },
  {
   "cell_type": "markdown",
   "metadata": {},
   "source": [
    "Ezt követően nézzünk néhány példát logaritmikus függvényekre!"
   ]
  },
  {
   "cell_type": "code",
   "execution_count": null,
   "metadata": {},
   "outputs": [],
   "source": [
    "x = np.e**5\n",
    "print(x)\n",
    "\n",
    "# Természetes alapú logaritmus\n",
    "print(f\"Az ln(x) értéke: {}\")      # 5\n",
    "\n",
    "# 10-es alapú logaritmus\n",
    "print(f\"Az lg(x) értéke: {}\")    # ~ 2.1 - 2.2"
   ]
  },
  {
   "cell_type": "markdown",
   "metadata": {},
   "source": [
    "**Feladat**: Próbáljuk meg kiszámolni `x` tetszőleges alapú logaritmusát!\n",
    "\n",
    "*Megjegyzés*: amikor összeállítottam ezt az órai anyagot, fogalmam sem volt ennek a függvénynek a szintaktikájáról. Őszintén kicsit meg is lepődtem, hogy bonyolultabb elérni, mint a többit... **Nem attól lesz valaki jó programozó, hogy minden függvény szintaktikáját, bemeneti paramétereit, kimeneteit kívülről fújja, sőt! A véges agykapacitásunkat használjuk inkább arra, hogy fejlesszük a problémamegoldó képességünket**; mintsem arra, hogy értelmetlen mennyiségű lexikális tudást felhalmozzunk!"
   ]
  },
  {
   "cell_type": "code",
   "execution_count": null,
   "metadata": {},
   "outputs": [],
   "source": [
    "# Tetszőleges alapú logaritmust kicsit bonyolultabb írni:"
   ]
  },
  {
   "cell_type": "markdown",
   "metadata": {},
   "source": [
    "# 1. hét / IV. Tömbök"
   ]
  },
  {
   "cell_type": "markdown",
   "metadata": {},
   "source": [
    "Gyakran előfordul, hogy adatok egy *halmazát* szeretnénk együtt, egy *konténerben* belül kezelni. Például egy képzeljük el, hogy 15 percenként megmérjük a hőmérsékletet és ezeket az adatokat szeretnénk eltárolni egy *tömb*ben, és ezt követően szeretnénk ezt feldolgozni. Erre a Python nyelv lehetőséget kínál, sőt különböző *adatstruktúrákat* is biztosít, hogy mindig a céljainknak megfelelő konténerben gyűjtsük össze az adatainkat:\n",
    "- **List** `[]`: legegyszerűbb adatstruktúra, az egyes adatok egymást követően (rendezetten) vannak elhelyezve ebben az adatstruktúrában. Tetszőleges adatot tartalmazhat (akár különböző adattípust is: számokat és szöveget). Elemei közvetlenül elérhetőek, azaz *indexelhető* a `<lista>` változó `i`. indexű elemére a `<list>[i]` szintaktikával hivatkozhatunk. Fontos megjegyezni, hogy a lista első elemének indexe a `0`!\n",
    "\n",
    "- **Tuple** `()`: A listához hasonló adatstruktúra, ugyanúgy képes különböző típusú adatok rendezett tárolására, emellett ugyanúgy indexelhető is. Viszont a tuple *elemei nem módosíthatóak* (*immutable* object), ezért új elemeket hozzáadni nehézkes (de nem lehetetlen).\n",
    "\n",
    "- **Set** `{}`: Az előzőekkel ellentétben ez egy *rendezetlen* adatstruktúra (azaz nem indexelhető), melyben *nem szerepelhet többször ugyanaz az elem*! Emiatt gyakran használják *duplicate element* (ismétlődő elemek) szűrésre, vagy tagság tesztelésére (azaz megvizsgálni, hogy egy adott elem benne van-e egy halmazban). Emellett értelmezhetőek rajta a *matematikai halmazműveletek*, mint: metszet, unió, különbség, szimmetrikus különbség...\n",
    "\n",
    "- **Dictionary** `{}`: Ugyancsak *rendezetlen* adatstruktúra, mely alapvetően hozzárendelések és leképezések tárolására alkalmas. Például ha statika házi feladatot szeretnénk megoldani, akkor a létrehozhatjuk az `adatok` *dictionary-t, melyben az adatokhoz hozzárendeljük a számértékeket: `F` $\\rightarrow$ `30` [kN], `a` $\\rightarrow$ `200` [mm], `b` $\\rightarrow$ `150` [mm] ..."
   ]
  },
  {
   "cell_type": "markdown",
   "metadata": {},
   "source": [
    "## Tömbműveletek"
   ]
  },
  {
   "cell_type": "markdown",
   "metadata": {},
   "source": [
    "Ugyan magasfokú kényelmet garantálnak az egyes adattárolók, mint mindennek, ennek is megvannak a maga hátrányai. Tömbökben feldolgozni az adatot mindig egy lépéssel összetettebb feladat lesz, ezért az alábbi fontos feladatokkal mindenképpen meg kell ismerkednünk:\n",
    "- Deklarálás és definiálás\n",
    "- Tömbök címzése: indexelés\n",
    "- Fontos függvények: `len()`, `max()`, `min()`, `index()`\n",
    "- Tömbök rendezése"
   ]
  },
  {
   "cell_type": "markdown",
   "metadata": {},
   "source": [
    "**Példa: Dupla szakítás**\n",
    "\n",
    "Marika néni unokája, *Petike* az Anyagismeret laborban acél rudak szakítóvizsgálati mérését végezte el (L2-es labor). Az adatok kiértékeléshez Petike összegyűjtötte a `terheles[]` tömbbe a vizsgált terheléseket, viszont mialatt éppen nem figyelt, Petike most már ex-barátnője, *Suhanó Szabó* (közismertebb nevén *Taylor Swift*) adatszemetet csúsztatott a tömbbe.\n",
    "\n",
    "Feladatok:\n",
    "1. Írassuk ki a tömböt elemeit a hibás adatokkal együtt.\n",
    "2. Írassuk ki külön a legelső és a legutolsó mérési eredményt is.\n",
    "3. Tudjuk, hogy az utolsó mérési eredményt írta át *Suhanó Szabó*. Módosítsuk ezt az elemet úgy, hogy $270$ [MPa] terhelésnek feleljen meg ez a pont!"
   ]
  },
  {
   "cell_type": "code",
   "execution_count": null,
   "metadata": {},
   "outputs": [],
   "source": [
    "terheles = [0.1, 0.2, 0.5, 2, \"kétszázhúszfelett\"]    # [MPa]\n",
    "\n",
    "# A print() függvénnyel könnyen kiíratható\n",
    "print(f\"A szakítóvizsgálat során az alábbi terheléseket vizsgáltuk: {}\")\n",
    "\n",
    "# Az elemek elérése - indexelés\n",
    "# print(f\"Az első terhelés: {} [MPa]\")         # Az indexelés mindig 0-val kezdődik!\n",
    "\n",
    "# Elem módosítása\n",
    "# print(f\"A szakítóvizsgálat helyes terhelései: {}\")"
   ]
  },
  {
   "cell_type": "markdown",
   "metadata": {},
   "source": [
    "Most, hogy kijavítottuk az adatokat, folytathatjuk az adatok feldolgozását!\n",
    "\n",
    "4. Először számoljuk össze hány mérést végeztünk!\n",
    "5. Petike utólag észrevette, hogy $7$ mérést kell feltüntetni a jegyzőkönyvben. Adjunk hozzá két új mérést a tömbhöz! Az egyik legyen a $0.7$, másik legyen az $5$!\n",
    "6. Keressük meg a maximumát az újonnan kapott tömbnek!\n",
    "7. Rendezzük a tömböt!"
   ]
  },
  {
   "cell_type": "code",
   "execution_count": null,
   "metadata": {},
   "outputs": [],
   "source": [
    "# Tömbök hossza\n",
    "print(f\"Összesen {len()} mérést végzett Petike!\")\n",
    "\n",
    "# Elemek hozzáadása tömbökhöz\n",
    "# print(f\"Az újonnan kapott terhelések tömbje: {}\")"
   ]
  },
  {
   "cell_type": "code",
   "execution_count": null,
   "metadata": {},
   "outputs": [],
   "source": [
    "# Maximum/minimum megkeresése\n",
    "maxTerheles = \n",
    "maxHely = \n",
    "print(f\"A legnagyobb terhelés a {}. mérésnél volt, {} [MPa]\")\n",
    "\n",
    "# Tömbök rendezése\n"
   ]
  },
  {
   "cell_type": "markdown",
   "metadata": {},
   "source": [
    "## Stringműveletek"
   ]
  },
  {
   "cell_type": "markdown",
   "metadata": {},
   "source": [
    "A `string`-ek feldolgozása központi feladat a programozási gyakorlat során, bár hozzá kell tenni, hogy túlzottan komoly szükségünk nem lesz ezekre a félév során. Mindenesetre gyakorlatilag kötelező, hogy ezekről mindenki halljon és az alapvető metódusok létezésével tisztában legyen!\n",
    "\n",
    "A `\"string\"` adattípus az `'` és `\"` karakterek segítségével válnak elérhetővé, többsoros szöveg esetén a `\"\"\" <szöveg> \"\"\"` szintaxist használjuk. A tömbökhöz hasonlóan indexelhetőek, speciális tulajdonságuk, hogy rendezettek (és legyenek is azok)! Felülírni viszont csak a `.replace()` metódussal lehet.\n",
    "\n",
    "Fontos metódusok:\n",
    "- `.capitalize()` - A string első karakterét nagybetűvé, minden más karakterét kisbetűvé írja át.\n",
    "- `.count()` - Megszámolja egy adott karakter/substring előfordulását az adott stringben.\n",
    "- `.find()` - Megkeres egy adott karaktert/substringet és visszatér a helyével.\n",
    "- `.lower()` - A teljes stringet kisbetűvel írja át.\n",
    "- `.replace()` - Kicseréli a string egy adott részét egy másik stringre.\n",
    "- `.split()` - Szétszed egy stringet megadott elválasztó karakter alapján.\n",
    "- `.upper()` - A teljes stringet nagybetűvel írja át."
   ]
  },
  {
   "cell_type": "code",
   "execution_count": null,
   "metadata": {},
   "outputs": [],
   "source": [
    "# Definiáljuk a kezdeti stringet\n",
    "szoveg = \"kübekcsakra\"\n",
    "print(szoveg)"
   ]
  },
  {
   "cell_type": "markdown",
   "metadata": {},
   "source": [
    "### Indexelés stringekben"
   ]
  },
  {
   "cell_type": "markdown",
   "metadata": {},
   "source": [
    "A tömbökhöz hasonlóan, a stringek is indexelhetőek, ami ugyanúgy `0`-val kezdődik. Amit érdemes itt áttekinteni (révén a stringeknél az egyik leglátványosabb, de a rendes tömbökre is működik) az az úgynevezett *slicing*. A tömbökből kiválaszthatok adott részeket az alábbi módon: `tomb[<kezd> : <veg> : <lepes>]`. Azaz a `<kezd>` indextől a `<veg>` indexig (és azt már nem beleértve) kiválaszthatjuk adott `<lepes>` lépésközzel az egyes betűket:\n",
    "- `\"nukleárizs\"[:]` $\\rightarrow$ `\"nukleárizs\"`\n",
    "- `\"nukleárizs\"[1:4]` $\\rightarrow$ `\"ukl\"`\n",
    "- `\"nukleárizs\"[0:6:2]` $\\rightarrow$ `\"nke\"`\n",
    "\n",
    "Ezzel a módszerrel egyébként könnyen megfordíthatjuk a stringeket!\n",
    "- `\"alma\"[::-1]` $\\rightarrow$ `\"amla\"`"
   ]
  },
  {
   "cell_type": "code",
   "execution_count": null,
   "metadata": {},
   "outputs": [],
   "source": [
    "# Adott karakter elérése\n",
    "\n",
    "# Slicing\n",
    "\n",
    "# Felülírni viszont nem lehet!\n",
    "# szoveg[1] = \"k\"\n"
   ]
  },
  {
   "cell_type": "markdown",
   "metadata": {},
   "source": [
    "# 1.hét / Epilógus"
   ]
  },
  {
   "cell_type": "markdown",
   "metadata": {},
   "source": [
    "### Szorgalmi feladatok"
   ]
  },
  {
   "cell_type": "markdown",
   "metadata": {},
   "source": [
    "Az órai anyaghoz kapcsolódó gyakorló feladatok a Teamsen elérhetőek a *PMA_gyak1.pdf* dokumentumban! Ahhoz, hogy minél jobban rögzüljenek az órán tanultak, feltétlen javaslom, hogy gyakoroljatok amennyit csak időtök engedi! Némi útmutatás a feladatgyűjteményhez: három csoportba vannak sorolva a feladatok:\n",
    "- **Bevezető feladatok**: rövid (2-3 sor kód) és nagyon egyszerű példák, melyek az órai anyag áttekintését segítik elő. Minden különálló anyagrészhez (aritmetikai műveletek, összetettebb aritmetikai műveletek (numpy), tömbműveletek...) tartozik egy bevzető feladat. Körülbelül *2-3 perc* időt vesznek igénybe egyenként, és tartalmaznak *megoldásokat*!\n",
    "\n",
    "- **Gyakorló feladatok**: az a bevezető feladatoknál egy lépéssel összetettebb feladatok, melyekben több különböző anyagrészt is fel kell használni. Ha valaki ezeket a feladatokat megoldja, egy komolyabb megértést tud szerezni az anyagról! Ezek a feladatok is tartalmaznak *megoldásokat*!\n",
    "\n",
    "- **Ajánlott feladatok**: komolyabb kihívást jelentő feladatok, melyek jellemzően túl is mutatnak az órai anyagon. Megoldásukhoz több ötletelés, internetes kutakodás szükséges. Ezekhez *nem tartozik megoldás*, viszont ha valaki próbálkozott megoldani a feladatokat, akkor kérés esetén nagyon szívesen bemutatom a saját megoldásaimat!\n",
    "\n",
    "Kérlek benneteket, hogy különösen az első hetekben a **bevezető példákat mindenképpen nézzétek át óráról órára**, különben könnyen lemaradhattok és a következő órákon elveszve érezhetitek magatokat. Másik jó tanács, hogy *használjátok a megoldókulcsot*, de ne intézzétek el annyival a problémát, hogy *\"hát értem mi van oda írva, tehát kész a feladat\"*! A **kódot mindenképpen gépeljétek be és próbáljátok ki**, akár több bemenetre is!"
   ]
  },
  {
   "cell_type": "markdown",
   "metadata": {},
   "source": [
    "### Hasznos anyagok:"
   ]
  },
  {
   "cell_type": "markdown",
   "metadata": {},
   "source": [
    "- Dokumentációk\n",
    "    - Python hivatalos dokumentációja: https://docs.python.org/3/\n",
    "    - [PEP 8](https://peps.python.org/pep-0008/) Style Guide for Python Code - Melyek a jó és rossz programozási praktikák\n",
    "    - NumPy hivatalos dokumentációja: https://numpy.org/doc/1.25/\n",
    "- Tankönyvek\n",
    "    - [Dive Into Python 3](http://diveintopython3.problemsolving.io/)\n",
    "    - [Dive into Deep Learning](https://d2l.ai/) - Interaktív tankönyv Deep Learninghez\n",
    "    - [Fluent Python: Clear, Concise, and Effective Programming by Luciano Ramalho](https://www.oreilly.com/library/view/fluent-python/9781491946237/) - Haladóbb szemléletű Python programozás\n",
    "- Útmutatók\n",
    "    - [The Official Python Tutorial](https://docs.python.org/3/tutorial/) - Self-explanatory?\n",
    "    - [Foglalt Keyword lista](https://docs.python.org/3.0/reference/lexical_analysis.html#id8) - Ezeket ne használd változónévnek!\n",
    "    - [Codecademy](https://www.codecademy.com/catalog) - Interaktív (fizetős) online tutorial\n",
    "    - [CheckIO](https://py.checkio.org/) - Tanulj Pythont játékfejlesztésen kersztül\n",
    "- Competitive Programming\n",
    "    - [Codewars](https://www.codewars.com/?language=python)\n",
    "    - [CodeForces](https://codeforces.com/)"
   ]
  },
  {
   "cell_type": "markdown",
   "metadata": {},
   "source": [
    "### Elérhetőség"
   ]
  },
  {
   "cell_type": "markdown",
   "metadata": {},
   "source": [
    "Bármilyen kérdés, kérés vagy probléma esetén keressetek minket az alábbi elérhetőségeken:\n",
    "- Monori Bence - m.bence02@outlook.hu\n",
    "- Wenesz Dominik - weneszdominik@gmail.com\n",
    "\n",
    "Illetve anonim üzenetküldésre is lehetőséget biztosítunk, ezt az alábbi linken tudjátok elérni: https://forms.gle/6VtGvhja3gq6CTT66"
   ]
  }
 ],
 "metadata": {
  "kernelspec": {
   "display_name": "base",
   "language": "python",
   "name": "python3"
  },
  "language_info": {
   "codemirror_mode": {
    "name": "ipython",
    "version": 3
   },
   "file_extension": ".py",
   "mimetype": "text/x-python",
   "name": "python",
   "nbconvert_exporter": "python",
   "pygments_lexer": "ipython3",
   "version": "3.10.9"
  },
  "orig_nbformat": 4
 },
 "nbformat": 4,
 "nbformat_minor": 2
}
